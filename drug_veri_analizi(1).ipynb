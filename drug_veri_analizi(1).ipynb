{
  "metadata": {
    "kernelspec": {
      "language": "python",
      "display_name": "Python 3",
      "name": "python3"
    },
    "language_info": {
      "name": "python",
      "version": "3.7.12",
      "mimetype": "text/x-python",
      "codemirror_mode": {
        "name": "ipython",
        "version": 3
      },
      "pygments_lexer": "ipython3",
      "nbconvert_exporter": "python",
      "file_extension": ".py"
    },
    "colab": {
      "provenance": []
    }
  },
  "nbformat_minor": 0,
  "nbformat": 4,
  "cells": [
    {
      "cell_type": "code",
      "source": [
        "# This Python 3 environment comes with many helpful analytics libraries installed\n",
        "# It is defined by the kaggle/python Docker image: https://github.com/kaggle/docker-python\n",
        "# For example, here's several helpful packages to load\n",
        "\n",
        "import numpy as np # linear algebra\n",
        "import pandas as pd # data processing, CSV file I/O (e.g. pd.read_csv)\n",
        "\n",
        "# Input data files are available in the read-only \"../input/\" directory\n",
        "# For example, running this (by clicking run or pressing Shift+Enter) will list all files under the input directory\n",
        "\n",
        "import os\n",
        "for dirname, _, filenames in os.walk('/kaggle/input'):\n",
        "    for filename in filenames:\n",
        "        print(os.path.join(dirname, filename))\n",
        "\n",
        "# You can write up to 20GB to the current directory (/kaggle/working/) that gets preserved as output when you create a version using \"Save & Run All\" \n",
        "# You can also write temporary files to /kaggle/temp/, but they won't be saved outside of the current session"
      ],
      "metadata": {
        "_uuid": "8f2839f25d086af736a60e9eeb907d3b93b6e0e5",
        "_cell_guid": "b1076dfc-b9ad-4769-8c92-a6c4dae69d19",
        "execution": {
          "iopub.status.busy": "2022-12-10T09:07:58.924641Z",
          "iopub.execute_input": "2022-12-10T09:07:58.925157Z",
          "iopub.status.idle": "2022-12-10T09:07:58.961516Z",
          "shell.execute_reply.started": "2022-12-10T09:07:58.925057Z",
          "shell.execute_reply": "2022-12-10T09:07:58.960209Z"
        },
        "trusted": true,
        "id": "yQqVSAVd3lny"
      },
      "execution_count": null,
      "outputs": []
    },
    {
      "cell_type": "code",
      "source": [
        "from google.colab import drive\n",
        "drive.mount('/content/drive')"
      ],
      "metadata": {
        "colab": {
          "base_uri": "https://localhost:8080/"
        },
        "id": "KnFJ2a3W7aDe",
        "outputId": "6caf5720-cb11-4bb3-87d1-5bfd7e6da28f"
      },
      "execution_count": null,
      "outputs": [
        {
          "output_type": "stream",
          "name": "stdout",
          "text": [
            "Mounted at /content/drive\n"
          ]
        }
      ]
    },
    {
      "cell_type": "code",
      "source": [
        "%cd /content/drive/MyDrive/Colab Notebooks/"
      ],
      "metadata": {
        "colab": {
          "base_uri": "https://localhost:8080/"
        },
        "id": "yymdzYTD7aVq",
        "outputId": "73718ea5-20ab-41a2-c15a-b42512a5a431"
      },
      "execution_count": null,
      "outputs": [
        {
          "output_type": "stream",
          "name": "stdout",
          "text": [
            "/content/drive/MyDrive/Colab Notebooks\n"
          ]
        }
      ]
    },
    {
      "cell_type": "markdown",
      "source": [
        "**ilaç sınıflandırması veri seti**\n",
        "\n",
        "bir tıp araştırmacısı olarak bir çalışma için elimizde  İlaç A, İlaç B, İlaç c, İlaç x ve y var. 200 tane de aynı hastalığa sahip bireyler bulunmaktadır . ve bu hastalar hakkında belirli verilere sahibiz. \n",
        "\n",
        "yapmamız gereken gelecekte aynı hastalığa sahip bir hasta için hangi ilacın daha uygun olabileceğini bulmak için bir analiz modeli geliştirmeliyiz. Veri kümemizde hastaların Yaş, Cinsiyet, Kan Basıncı ve Kolesterol değerleri bulunmaktadır \n",
        "\n",
        " Bu, çok sınıflı sınıflandırıcının bir örneğidir ve veri kümesinin eğitim bölümünü bir karar ağacı oluşturmak için kullanabilir ve ardından bunu bilinmeyen bir hastanın sınıfını tahmin etmek veya yeni bir hastaya ilaç reçete etmek için kullanabiliriz.\n",
        "\n",
        " \n",
        "kaggle linki:https://www.kaggle.com/datasets/prathamtripathi/drug-classification"
      ],
      "metadata": {
        "id": "ti7ZqO_TWw6C"
      }
    },
    {
      "cell_type": "code",
      "source": [
        "%matplotlib inline  \n",
        "#Matplotlib Inline komutu, matplotlib tarafından oluşturulan çizimlerin ayrı bir çıktı \n",
        "#penceresinde değil, çalıştırdığımız IPython kabuğunda gösterilmesini sağlayan komuttur.\n",
        "import numpy as np\n",
        "#NumPy (Numerical Python), çok boyutlu dizilerle ve matrislerle çalışmamızı sağlayan \n",
        "#ve matematiksel işlemler yapabileceğimiz Python dili kütüphanelerindendir.\n",
        "import pandas as pd   \n",
        "#veri setinin okuma, veri ön işleme ve veri temizleme \n",
        "import matplotlib.pyplot as plt\n",
        "#Matplotlib, bir görselleştirme yardımcı programı olarak hizmet veren, \n",
        "#python'da  bir grafik çizim kitaplığıdır.\n",
        "import seaborn as sns\n",
        "#Seaborn, Python'da istatistiksel grafikler oluşturmak için bir kütüphanedir.  Matplotlib üzerine kuruludur\n",
        "#pandas veri yapılarıyla yakından bütünleşir.  \n",
        "#Seaborn, verilerinizi görselleştirilmesine ve anlamanıza yardımcı olur\n",
        "\n",
        "\n",
        "from sklearn.model_selection import train_test_split# veriler eğitim ve test verisi olarak ayrımamıza yarar\n",
        "from sklearn.metrics  import classification_report# verileri sınıflandırmamıza yarar \n",
        "from sklearn.linear_model import LinearRegression# lineer regresyon modeli import edildi\n",
        "from sklearn.metrics import accuracy_score # doğruluk skoru \n",
        "from sklearn.metrics import confusion_matrix# konfüzyon matrisine bakılacak \n",
        "\n",
        "\n",
        "#Scikit-learn, veri analiz araçlarıyla birlikte birçok danışmansız ve danışmanlı öğrenme algoritması sağlayan Python kütüphanesidir"
      ],
      "metadata": {
        "id": "ia9GxBgGbJYY"
      },
      "execution_count": null,
      "outputs": []
    },
    {
      "cell_type": "code",
      "source": [
        "# veri setimizi pandas ile okuduk \n",
        "df =  pd.read_csv('/content/drive/MyDrive/Colab Notebooks/drug200.csv')"
      ],
      "metadata": {
        "execution": {
          "iopub.status.busy": "2022-12-10T09:08:55.896121Z",
          "iopub.execute_input": "2022-12-10T09:08:55.896708Z",
          "iopub.status.idle": "2022-12-10T09:08:55.920172Z",
          "shell.execute_reply.started": "2022-12-10T09:08:55.896662Z",
          "shell.execute_reply": "2022-12-10T09:08:55.919098Z"
        },
        "trusted": true,
        "id": "ySWrfbeu3ln0"
      },
      "execution_count": null,
      "outputs": []
    },
    {
      "cell_type": "markdown",
      "source": [
        "**veri setinin tanınması**"
      ],
      "metadata": {
        "id": "C5pUTueC8qkN"
      }
    },
    {
      "cell_type": "code",
      "source": [
        "df.shape # verimizin kaç nitelik ve öznitelikten olustuğunu gözlemledi (200 satır ve 6 sütundan oluşuyor )"
      ],
      "metadata": {
        "execution": {
          "iopub.status.busy": "2022-12-10T09:09:02.684231Z",
          "iopub.execute_input": "2022-12-10T09:09:02.684722Z",
          "iopub.status.idle": "2022-12-10T09:09:02.694946Z",
          "shell.execute_reply.started": "2022-12-10T09:09:02.684684Z",
          "shell.execute_reply": "2022-12-10T09:09:02.693969Z"
        },
        "trusted": true,
        "id": "SRRzn3vY3ln1",
        "outputId": "e5899bc4-f4a2-472e-b1fc-f1db6211d5ba",
        "colab": {
          "base_uri": "https://localhost:8080/"
        }
      },
      "execution_count": null,
      "outputs": [
        {
          "output_type": "execute_result",
          "data": {
            "text/plain": [
              "(200, 6)"
            ]
          },
          "metadata": {},
          "execution_count": 6
        }
      ]
    },
    {
      "cell_type": "markdown",
      "source": [
        "\n",
        "*   Age : örneklemde bulunan kişilerin yaşlarını belirtir\n",
        "*   sex/gender : kişilerin cinsiyet değerlerini tanımlar\n",
        "*   BP (Blood Pressure Levels ): Kan basıncı düzeyini gösterir \n",
        "*   Cholesterol : kolesterol değerini gösterir \n",
        "*   Na_to_K : kişinin sodyum ve potasyum değerini gösterir\n",
        "*   drug : ilaç anlamında kullanılmaktadır \n"
      ],
      "metadata": {
        "id": "A_VYQnEw-8GW"
      }
    },
    {
      "cell_type": "code",
      "source": [
        "df.head() # veri setinin ilk 5 satırını gösterir "
      ],
      "metadata": {
        "execution": {
          "iopub.status.busy": "2022-12-10T09:49:06.651425Z",
          "iopub.execute_input": "2022-12-10T09:49:06.651887Z",
          "iopub.status.idle": "2022-12-10T09:49:06.666556Z",
          "shell.execute_reply.started": "2022-12-10T09:49:06.651849Z",
          "shell.execute_reply": "2022-12-10T09:49:06.665193Z"
        },
        "trusted": true,
        "id": "zZcm2CBk3ln2",
        "outputId": "f6409f5d-4dc8-4ee3-d3d4-f7009f33855d",
        "colab": {
          "base_uri": "https://localhost:8080/",
          "height": 206
        }
      },
      "execution_count": null,
      "outputs": [
        {
          "output_type": "execute_result",
          "data": {
            "text/plain": [
              "   Age Sex      BP Cholesterol  Na_to_K   Drug\n",
              "0   23   F    HIGH        HIGH   25.355  DrugY\n",
              "1   47   M     LOW        HIGH   13.093  drugC\n",
              "2   47   M     LOW        HIGH   10.114  drugC\n",
              "3   28   F  NORMAL        HIGH    7.798  drugX\n",
              "4   61   F     LOW        HIGH   18.043  DrugY"
            ],
            "text/html": [
              "\n",
              "  <div id=\"df-a825ecc9-5847-49f7-bb62-110a8ed65c79\">\n",
              "    <div class=\"colab-df-container\">\n",
              "      <div>\n",
              "<style scoped>\n",
              "    .dataframe tbody tr th:only-of-type {\n",
              "        vertical-align: middle;\n",
              "    }\n",
              "\n",
              "    .dataframe tbody tr th {\n",
              "        vertical-align: top;\n",
              "    }\n",
              "\n",
              "    .dataframe thead th {\n",
              "        text-align: right;\n",
              "    }\n",
              "</style>\n",
              "<table border=\"1\" class=\"dataframe\">\n",
              "  <thead>\n",
              "    <tr style=\"text-align: right;\">\n",
              "      <th></th>\n",
              "      <th>Age</th>\n",
              "      <th>Sex</th>\n",
              "      <th>BP</th>\n",
              "      <th>Cholesterol</th>\n",
              "      <th>Na_to_K</th>\n",
              "      <th>Drug</th>\n",
              "    </tr>\n",
              "  </thead>\n",
              "  <tbody>\n",
              "    <tr>\n",
              "      <th>0</th>\n",
              "      <td>23</td>\n",
              "      <td>F</td>\n",
              "      <td>HIGH</td>\n",
              "      <td>HIGH</td>\n",
              "      <td>25.355</td>\n",
              "      <td>DrugY</td>\n",
              "    </tr>\n",
              "    <tr>\n",
              "      <th>1</th>\n",
              "      <td>47</td>\n",
              "      <td>M</td>\n",
              "      <td>LOW</td>\n",
              "      <td>HIGH</td>\n",
              "      <td>13.093</td>\n",
              "      <td>drugC</td>\n",
              "    </tr>\n",
              "    <tr>\n",
              "      <th>2</th>\n",
              "      <td>47</td>\n",
              "      <td>M</td>\n",
              "      <td>LOW</td>\n",
              "      <td>HIGH</td>\n",
              "      <td>10.114</td>\n",
              "      <td>drugC</td>\n",
              "    </tr>\n",
              "    <tr>\n",
              "      <th>3</th>\n",
              "      <td>28</td>\n",
              "      <td>F</td>\n",
              "      <td>NORMAL</td>\n",
              "      <td>HIGH</td>\n",
              "      <td>7.798</td>\n",
              "      <td>drugX</td>\n",
              "    </tr>\n",
              "    <tr>\n",
              "      <th>4</th>\n",
              "      <td>61</td>\n",
              "      <td>F</td>\n",
              "      <td>LOW</td>\n",
              "      <td>HIGH</td>\n",
              "      <td>18.043</td>\n",
              "      <td>DrugY</td>\n",
              "    </tr>\n",
              "  </tbody>\n",
              "</table>\n",
              "</div>\n",
              "      <button class=\"colab-df-convert\" onclick=\"convertToInteractive('df-a825ecc9-5847-49f7-bb62-110a8ed65c79')\"\n",
              "              title=\"Convert this dataframe to an interactive table.\"\n",
              "              style=\"display:none;\">\n",
              "        \n",
              "  <svg xmlns=\"http://www.w3.org/2000/svg\" height=\"24px\"viewBox=\"0 0 24 24\"\n",
              "       width=\"24px\">\n",
              "    <path d=\"M0 0h24v24H0V0z\" fill=\"none\"/>\n",
              "    <path d=\"M18.56 5.44l.94 2.06.94-2.06 2.06-.94-2.06-.94-.94-2.06-.94 2.06-2.06.94zm-11 1L8.5 8.5l.94-2.06 2.06-.94-2.06-.94L8.5 2.5l-.94 2.06-2.06.94zm10 10l.94 2.06.94-2.06 2.06-.94-2.06-.94-.94-2.06-.94 2.06-2.06.94z\"/><path d=\"M17.41 7.96l-1.37-1.37c-.4-.4-.92-.59-1.43-.59-.52 0-1.04.2-1.43.59L10.3 9.45l-7.72 7.72c-.78.78-.78 2.05 0 2.83L4 21.41c.39.39.9.59 1.41.59.51 0 1.02-.2 1.41-.59l7.78-7.78 2.81-2.81c.8-.78.8-2.07 0-2.86zM5.41 20L4 18.59l7.72-7.72 1.47 1.35L5.41 20z\"/>\n",
              "  </svg>\n",
              "      </button>\n",
              "      \n",
              "  <style>\n",
              "    .colab-df-container {\n",
              "      display:flex;\n",
              "      flex-wrap:wrap;\n",
              "      gap: 12px;\n",
              "    }\n",
              "\n",
              "    .colab-df-convert {\n",
              "      background-color: #E8F0FE;\n",
              "      border: none;\n",
              "      border-radius: 50%;\n",
              "      cursor: pointer;\n",
              "      display: none;\n",
              "      fill: #1967D2;\n",
              "      height: 32px;\n",
              "      padding: 0 0 0 0;\n",
              "      width: 32px;\n",
              "    }\n",
              "\n",
              "    .colab-df-convert:hover {\n",
              "      background-color: #E2EBFA;\n",
              "      box-shadow: 0px 1px 2px rgba(60, 64, 67, 0.3), 0px 1px 3px 1px rgba(60, 64, 67, 0.15);\n",
              "      fill: #174EA6;\n",
              "    }\n",
              "\n",
              "    [theme=dark] .colab-df-convert {\n",
              "      background-color: #3B4455;\n",
              "      fill: #D2E3FC;\n",
              "    }\n",
              "\n",
              "    [theme=dark] .colab-df-convert:hover {\n",
              "      background-color: #434B5C;\n",
              "      box-shadow: 0px 1px 3px 1px rgba(0, 0, 0, 0.15);\n",
              "      filter: drop-shadow(0px 1px 2px rgba(0, 0, 0, 0.3));\n",
              "      fill: #FFFFFF;\n",
              "    }\n",
              "  </style>\n",
              "\n",
              "      <script>\n",
              "        const buttonEl =\n",
              "          document.querySelector('#df-a825ecc9-5847-49f7-bb62-110a8ed65c79 button.colab-df-convert');\n",
              "        buttonEl.style.display =\n",
              "          google.colab.kernel.accessAllowed ? 'block' : 'none';\n",
              "\n",
              "        async function convertToInteractive(key) {\n",
              "          const element = document.querySelector('#df-a825ecc9-5847-49f7-bb62-110a8ed65c79');\n",
              "          const dataTable =\n",
              "            await google.colab.kernel.invokeFunction('convertToInteractive',\n",
              "                                                     [key], {});\n",
              "          if (!dataTable) return;\n",
              "\n",
              "          const docLinkHtml = 'Like what you see? Visit the ' +\n",
              "            '<a target=\"_blank\" href=https://colab.research.google.com/notebooks/data_table.ipynb>data table notebook</a>'\n",
              "            + ' to learn more about interactive tables.';\n",
              "          element.innerHTML = '';\n",
              "          dataTable['output_type'] = 'display_data';\n",
              "          await google.colab.output.renderOutput(dataTable, element);\n",
              "          const docLink = document.createElement('div');\n",
              "          docLink.innerHTML = docLinkHtml;\n",
              "          element.appendChild(docLink);\n",
              "        }\n",
              "      </script>\n",
              "    </div>\n",
              "  </div>\n",
              "  "
            ]
          },
          "metadata": {},
          "execution_count": 7
        }
      ]
    },
    {
      "cell_type": "code",
      "source": [
        "df.columns # veri setinin sütun isimlerini gösterir "
      ],
      "metadata": {
        "execution": {
          "iopub.status.busy": "2022-12-10T09:49:23.287249Z",
          "iopub.execute_input": "2022-12-10T09:49:23.288430Z",
          "iopub.status.idle": "2022-12-10T09:49:23.296280Z",
          "shell.execute_reply.started": "2022-12-10T09:49:23.288379Z",
          "shell.execute_reply": "2022-12-10T09:49:23.295322Z"
        },
        "trusted": true,
        "id": "squ-LKow3ln3",
        "outputId": "9bff2134-651c-4aae-b907-3f2391b2e226",
        "colab": {
          "base_uri": "https://localhost:8080/"
        }
      },
      "execution_count": null,
      "outputs": [
        {
          "output_type": "execute_result",
          "data": {
            "text/plain": [
              "Index(['Age', 'Sex', 'BP', 'Cholesterol', 'Na_to_K', 'Drug'], dtype='object')"
            ]
          },
          "metadata": {},
          "execution_count": 8
        }
      ]
    },
    {
      "cell_type": "code",
      "source": [
        "# veri setinde bir sütun ismi değiştiriyoruz  \n",
        "df.rename({\"Sex\": \"gender\"}, axis=\"columns\", inplace=True)\n",
        "df.head()"
      ],
      "metadata": {
        "colab": {
          "base_uri": "https://localhost:8080/",
          "height": 206
        },
        "id": "YXqSdID1X-jw",
        "outputId": "f3ec01de-dc84-4e21-d7fc-0b67f61435b8"
      },
      "execution_count": null,
      "outputs": [
        {
          "output_type": "execute_result",
          "data": {
            "text/plain": [
              "   Age gender      BP Cholesterol  Na_to_K   Drug\n",
              "0   23      F    HIGH        HIGH   25.355  DrugY\n",
              "1   47      M     LOW        HIGH   13.093  drugC\n",
              "2   47      M     LOW        HIGH   10.114  drugC\n",
              "3   28      F  NORMAL        HIGH    7.798  drugX\n",
              "4   61      F     LOW        HIGH   18.043  DrugY"
            ],
            "text/html": [
              "\n",
              "  <div id=\"df-a0cf3e35-acf4-45a6-89d5-4fd3886e534f\">\n",
              "    <div class=\"colab-df-container\">\n",
              "      <div>\n",
              "<style scoped>\n",
              "    .dataframe tbody tr th:only-of-type {\n",
              "        vertical-align: middle;\n",
              "    }\n",
              "\n",
              "    .dataframe tbody tr th {\n",
              "        vertical-align: top;\n",
              "    }\n",
              "\n",
              "    .dataframe thead th {\n",
              "        text-align: right;\n",
              "    }\n",
              "</style>\n",
              "<table border=\"1\" class=\"dataframe\">\n",
              "  <thead>\n",
              "    <tr style=\"text-align: right;\">\n",
              "      <th></th>\n",
              "      <th>Age</th>\n",
              "      <th>gender</th>\n",
              "      <th>BP</th>\n",
              "      <th>Cholesterol</th>\n",
              "      <th>Na_to_K</th>\n",
              "      <th>Drug</th>\n",
              "    </tr>\n",
              "  </thead>\n",
              "  <tbody>\n",
              "    <tr>\n",
              "      <th>0</th>\n",
              "      <td>23</td>\n",
              "      <td>F</td>\n",
              "      <td>HIGH</td>\n",
              "      <td>HIGH</td>\n",
              "      <td>25.355</td>\n",
              "      <td>DrugY</td>\n",
              "    </tr>\n",
              "    <tr>\n",
              "      <th>1</th>\n",
              "      <td>47</td>\n",
              "      <td>M</td>\n",
              "      <td>LOW</td>\n",
              "      <td>HIGH</td>\n",
              "      <td>13.093</td>\n",
              "      <td>drugC</td>\n",
              "    </tr>\n",
              "    <tr>\n",
              "      <th>2</th>\n",
              "      <td>47</td>\n",
              "      <td>M</td>\n",
              "      <td>LOW</td>\n",
              "      <td>HIGH</td>\n",
              "      <td>10.114</td>\n",
              "      <td>drugC</td>\n",
              "    </tr>\n",
              "    <tr>\n",
              "      <th>3</th>\n",
              "      <td>28</td>\n",
              "      <td>F</td>\n",
              "      <td>NORMAL</td>\n",
              "      <td>HIGH</td>\n",
              "      <td>7.798</td>\n",
              "      <td>drugX</td>\n",
              "    </tr>\n",
              "    <tr>\n",
              "      <th>4</th>\n",
              "      <td>61</td>\n",
              "      <td>F</td>\n",
              "      <td>LOW</td>\n",
              "      <td>HIGH</td>\n",
              "      <td>18.043</td>\n",
              "      <td>DrugY</td>\n",
              "    </tr>\n",
              "  </tbody>\n",
              "</table>\n",
              "</div>\n",
              "      <button class=\"colab-df-convert\" onclick=\"convertToInteractive('df-a0cf3e35-acf4-45a6-89d5-4fd3886e534f')\"\n",
              "              title=\"Convert this dataframe to an interactive table.\"\n",
              "              style=\"display:none;\">\n",
              "        \n",
              "  <svg xmlns=\"http://www.w3.org/2000/svg\" height=\"24px\"viewBox=\"0 0 24 24\"\n",
              "       width=\"24px\">\n",
              "    <path d=\"M0 0h24v24H0V0z\" fill=\"none\"/>\n",
              "    <path d=\"M18.56 5.44l.94 2.06.94-2.06 2.06-.94-2.06-.94-.94-2.06-.94 2.06-2.06.94zm-11 1L8.5 8.5l.94-2.06 2.06-.94-2.06-.94L8.5 2.5l-.94 2.06-2.06.94zm10 10l.94 2.06.94-2.06 2.06-.94-2.06-.94-.94-2.06-.94 2.06-2.06.94z\"/><path d=\"M17.41 7.96l-1.37-1.37c-.4-.4-.92-.59-1.43-.59-.52 0-1.04.2-1.43.59L10.3 9.45l-7.72 7.72c-.78.78-.78 2.05 0 2.83L4 21.41c.39.39.9.59 1.41.59.51 0 1.02-.2 1.41-.59l7.78-7.78 2.81-2.81c.8-.78.8-2.07 0-2.86zM5.41 20L4 18.59l7.72-7.72 1.47 1.35L5.41 20z\"/>\n",
              "  </svg>\n",
              "      </button>\n",
              "      \n",
              "  <style>\n",
              "    .colab-df-container {\n",
              "      display:flex;\n",
              "      flex-wrap:wrap;\n",
              "      gap: 12px;\n",
              "    }\n",
              "\n",
              "    .colab-df-convert {\n",
              "      background-color: #E8F0FE;\n",
              "      border: none;\n",
              "      border-radius: 50%;\n",
              "      cursor: pointer;\n",
              "      display: none;\n",
              "      fill: #1967D2;\n",
              "      height: 32px;\n",
              "      padding: 0 0 0 0;\n",
              "      width: 32px;\n",
              "    }\n",
              "\n",
              "    .colab-df-convert:hover {\n",
              "      background-color: #E2EBFA;\n",
              "      box-shadow: 0px 1px 2px rgba(60, 64, 67, 0.3), 0px 1px 3px 1px rgba(60, 64, 67, 0.15);\n",
              "      fill: #174EA6;\n",
              "    }\n",
              "\n",
              "    [theme=dark] .colab-df-convert {\n",
              "      background-color: #3B4455;\n",
              "      fill: #D2E3FC;\n",
              "    }\n",
              "\n",
              "    [theme=dark] .colab-df-convert:hover {\n",
              "      background-color: #434B5C;\n",
              "      box-shadow: 0px 1px 3px 1px rgba(0, 0, 0, 0.15);\n",
              "      filter: drop-shadow(0px 1px 2px rgba(0, 0, 0, 0.3));\n",
              "      fill: #FFFFFF;\n",
              "    }\n",
              "  </style>\n",
              "\n",
              "      <script>\n",
              "        const buttonEl =\n",
              "          document.querySelector('#df-a0cf3e35-acf4-45a6-89d5-4fd3886e534f button.colab-df-convert');\n",
              "        buttonEl.style.display =\n",
              "          google.colab.kernel.accessAllowed ? 'block' : 'none';\n",
              "\n",
              "        async function convertToInteractive(key) {\n",
              "          const element = document.querySelector('#df-a0cf3e35-acf4-45a6-89d5-4fd3886e534f');\n",
              "          const dataTable =\n",
              "            await google.colab.kernel.invokeFunction('convertToInteractive',\n",
              "                                                     [key], {});\n",
              "          if (!dataTable) return;\n",
              "\n",
              "          const docLinkHtml = 'Like what you see? Visit the ' +\n",
              "            '<a target=\"_blank\" href=https://colab.research.google.com/notebooks/data_table.ipynb>data table notebook</a>'\n",
              "            + ' to learn more about interactive tables.';\n",
              "          element.innerHTML = '';\n",
              "          dataTable['output_type'] = 'display_data';\n",
              "          await google.colab.output.renderOutput(dataTable, element);\n",
              "          const docLink = document.createElement('div');\n",
              "          docLink.innerHTML = docLinkHtml;\n",
              "          element.appendChild(docLink);\n",
              "        }\n",
              "      </script>\n",
              "    </div>\n",
              "  </div>\n",
              "  "
            ]
          },
          "metadata": {},
          "execution_count": 9
        }
      ]
    },
    {
      "cell_type": "code",
      "source": [
        "from sklearn.preprocessing import LabelEncoder #kategorik değişkenlerin tahminde\n",
        "#kullanılabilmesi için verinin türünü değiştirmeye yarar\n",
        "        \n",
        "le = LabelEncoder()\n",
        "\n",
        "#aşağıda 3 sütunun değerlerini int türüne dönüştürdük\n",
        "df['gender'] = le.fit_transform(df['gender'])\n",
        "df['BP'] = le.fit_transform(df['BP'])\n",
        "df['Cholesterol'] = le.fit_transform(df['Cholesterol'])\n",
        "\n",
        "#df[\"gender\"] = df[\"gender\"].replace(\"F\",0) diyerek de sayısallaştırma yapabiliriz\n"
      ],
      "metadata": {
        "execution": {
          "iopub.status.busy": "2022-12-10T10:53:45.529191Z",
          "iopub.execute_input": "2022-12-10T10:53:45.530071Z",
          "iopub.status.idle": "2022-12-10T10:53:45.536683Z",
          "shell.execute_reply.started": "2022-12-10T10:53:45.530035Z",
          "shell.execute_reply": "2022-12-10T10:53:45.535561Z"
        },
        "trusted": true,
        "id": "0K394BKD3ln5"
      },
      "execution_count": null,
      "outputs": []
    },
    {
      "cell_type": "code",
      "source": [
        "df.head() # kontrol için ilk 5 satırı çağırdık "
      ],
      "metadata": {
        "execution": {
          "iopub.status.busy": "2022-12-10T10:53:47.275606Z",
          "iopub.execute_input": "2022-12-10T10:53:47.276224Z",
          "iopub.status.idle": "2022-12-10T10:53:47.287704Z",
          "shell.execute_reply.started": "2022-12-10T10:53:47.276189Z",
          "shell.execute_reply": "2022-12-10T10:53:47.286761Z"
        },
        "trusted": true,
        "id": "YqR0VKN53ln5",
        "outputId": "88405d2f-8e9e-443a-8aac-53f3d9340c01",
        "colab": {
          "base_uri": "https://localhost:8080/",
          "height": 206
        }
      },
      "execution_count": null,
      "outputs": [
        {
          "output_type": "execute_result",
          "data": {
            "text/plain": [
              "   Age  gender  BP  Cholesterol  Na_to_K   Drug\n",
              "0   23       0   0            0   25.355  DrugY\n",
              "1   47       1   1            0   13.093  drugC\n",
              "2   47       1   1            0   10.114  drugC\n",
              "3   28       0   2            0    7.798  drugX\n",
              "4   61       0   1            0   18.043  DrugY"
            ],
            "text/html": [
              "\n",
              "  <div id=\"df-6e4e3225-650d-477f-a01d-50c55ec4f89d\">\n",
              "    <div class=\"colab-df-container\">\n",
              "      <div>\n",
              "<style scoped>\n",
              "    .dataframe tbody tr th:only-of-type {\n",
              "        vertical-align: middle;\n",
              "    }\n",
              "\n",
              "    .dataframe tbody tr th {\n",
              "        vertical-align: top;\n",
              "    }\n",
              "\n",
              "    .dataframe thead th {\n",
              "        text-align: right;\n",
              "    }\n",
              "</style>\n",
              "<table border=\"1\" class=\"dataframe\">\n",
              "  <thead>\n",
              "    <tr style=\"text-align: right;\">\n",
              "      <th></th>\n",
              "      <th>Age</th>\n",
              "      <th>gender</th>\n",
              "      <th>BP</th>\n",
              "      <th>Cholesterol</th>\n",
              "      <th>Na_to_K</th>\n",
              "      <th>Drug</th>\n",
              "    </tr>\n",
              "  </thead>\n",
              "  <tbody>\n",
              "    <tr>\n",
              "      <th>0</th>\n",
              "      <td>23</td>\n",
              "      <td>0</td>\n",
              "      <td>0</td>\n",
              "      <td>0</td>\n",
              "      <td>25.355</td>\n",
              "      <td>DrugY</td>\n",
              "    </tr>\n",
              "    <tr>\n",
              "      <th>1</th>\n",
              "      <td>47</td>\n",
              "      <td>1</td>\n",
              "      <td>1</td>\n",
              "      <td>0</td>\n",
              "      <td>13.093</td>\n",
              "      <td>drugC</td>\n",
              "    </tr>\n",
              "    <tr>\n",
              "      <th>2</th>\n",
              "      <td>47</td>\n",
              "      <td>1</td>\n",
              "      <td>1</td>\n",
              "      <td>0</td>\n",
              "      <td>10.114</td>\n",
              "      <td>drugC</td>\n",
              "    </tr>\n",
              "    <tr>\n",
              "      <th>3</th>\n",
              "      <td>28</td>\n",
              "      <td>0</td>\n",
              "      <td>2</td>\n",
              "      <td>0</td>\n",
              "      <td>7.798</td>\n",
              "      <td>drugX</td>\n",
              "    </tr>\n",
              "    <tr>\n",
              "      <th>4</th>\n",
              "      <td>61</td>\n",
              "      <td>0</td>\n",
              "      <td>1</td>\n",
              "      <td>0</td>\n",
              "      <td>18.043</td>\n",
              "      <td>DrugY</td>\n",
              "    </tr>\n",
              "  </tbody>\n",
              "</table>\n",
              "</div>\n",
              "      <button class=\"colab-df-convert\" onclick=\"convertToInteractive('df-6e4e3225-650d-477f-a01d-50c55ec4f89d')\"\n",
              "              title=\"Convert this dataframe to an interactive table.\"\n",
              "              style=\"display:none;\">\n",
              "        \n",
              "  <svg xmlns=\"http://www.w3.org/2000/svg\" height=\"24px\"viewBox=\"0 0 24 24\"\n",
              "       width=\"24px\">\n",
              "    <path d=\"M0 0h24v24H0V0z\" fill=\"none\"/>\n",
              "    <path d=\"M18.56 5.44l.94 2.06.94-2.06 2.06-.94-2.06-.94-.94-2.06-.94 2.06-2.06.94zm-11 1L8.5 8.5l.94-2.06 2.06-.94-2.06-.94L8.5 2.5l-.94 2.06-2.06.94zm10 10l.94 2.06.94-2.06 2.06-.94-2.06-.94-.94-2.06-.94 2.06-2.06.94z\"/><path d=\"M17.41 7.96l-1.37-1.37c-.4-.4-.92-.59-1.43-.59-.52 0-1.04.2-1.43.59L10.3 9.45l-7.72 7.72c-.78.78-.78 2.05 0 2.83L4 21.41c.39.39.9.59 1.41.59.51 0 1.02-.2 1.41-.59l7.78-7.78 2.81-2.81c.8-.78.8-2.07 0-2.86zM5.41 20L4 18.59l7.72-7.72 1.47 1.35L5.41 20z\"/>\n",
              "  </svg>\n",
              "      </button>\n",
              "      \n",
              "  <style>\n",
              "    .colab-df-container {\n",
              "      display:flex;\n",
              "      flex-wrap:wrap;\n",
              "      gap: 12px;\n",
              "    }\n",
              "\n",
              "    .colab-df-convert {\n",
              "      background-color: #E8F0FE;\n",
              "      border: none;\n",
              "      border-radius: 50%;\n",
              "      cursor: pointer;\n",
              "      display: none;\n",
              "      fill: #1967D2;\n",
              "      height: 32px;\n",
              "      padding: 0 0 0 0;\n",
              "      width: 32px;\n",
              "    }\n",
              "\n",
              "    .colab-df-convert:hover {\n",
              "      background-color: #E2EBFA;\n",
              "      box-shadow: 0px 1px 2px rgba(60, 64, 67, 0.3), 0px 1px 3px 1px rgba(60, 64, 67, 0.15);\n",
              "      fill: #174EA6;\n",
              "    }\n",
              "\n",
              "    [theme=dark] .colab-df-convert {\n",
              "      background-color: #3B4455;\n",
              "      fill: #D2E3FC;\n",
              "    }\n",
              "\n",
              "    [theme=dark] .colab-df-convert:hover {\n",
              "      background-color: #434B5C;\n",
              "      box-shadow: 0px 1px 3px 1px rgba(0, 0, 0, 0.15);\n",
              "      filter: drop-shadow(0px 1px 2px rgba(0, 0, 0, 0.3));\n",
              "      fill: #FFFFFF;\n",
              "    }\n",
              "  </style>\n",
              "\n",
              "      <script>\n",
              "        const buttonEl =\n",
              "          document.querySelector('#df-6e4e3225-650d-477f-a01d-50c55ec4f89d button.colab-df-convert');\n",
              "        buttonEl.style.display =\n",
              "          google.colab.kernel.accessAllowed ? 'block' : 'none';\n",
              "\n",
              "        async function convertToInteractive(key) {\n",
              "          const element = document.querySelector('#df-6e4e3225-650d-477f-a01d-50c55ec4f89d');\n",
              "          const dataTable =\n",
              "            await google.colab.kernel.invokeFunction('convertToInteractive',\n",
              "                                                     [key], {});\n",
              "          if (!dataTable) return;\n",
              "\n",
              "          const docLinkHtml = 'Like what you see? Visit the ' +\n",
              "            '<a target=\"_blank\" href=https://colab.research.google.com/notebooks/data_table.ipynb>data table notebook</a>'\n",
              "            + ' to learn more about interactive tables.';\n",
              "          element.innerHTML = '';\n",
              "          dataTable['output_type'] = 'display_data';\n",
              "          await google.colab.output.renderOutput(dataTable, element);\n",
              "          const docLink = document.createElement('div');\n",
              "          docLink.innerHTML = docLinkHtml;\n",
              "          element.appendChild(docLink);\n",
              "        }\n",
              "      </script>\n",
              "    </div>\n",
              "  </div>\n",
              "  "
            ]
          },
          "metadata": {},
          "execution_count": 11
        }
      ]
    },
    {
      "cell_type": "code",
      "source": [
        "# tahmin için kullanacağımız sütunun benzersiz değerlerine ulaştık \n",
        "print(pd.unique(df['Drug']))"
      ],
      "metadata": {
        "execution": {
          "iopub.status.busy": "2022-12-10T10:53:48.229651Z",
          "iopub.execute_input": "2022-12-10T10:53:48.230286Z",
          "iopub.status.idle": "2022-12-10T10:53:48.237612Z",
          "shell.execute_reply.started": "2022-12-10T10:53:48.230240Z",
          "shell.execute_reply": "2022-12-10T10:53:48.236551Z"
        },
        "trusted": true,
        "id": "W0MvZNJA3ln6",
        "outputId": "56c5e5f3-2bb0-4f28-d0d0-1e52092e6ba2",
        "colab": {
          "base_uri": "https://localhost:8080/"
        }
      },
      "execution_count": null,
      "outputs": [
        {
          "output_type": "stream",
          "name": "stdout",
          "text": [
            "['DrugY' 'drugC' 'drugX' 'drugA' 'drugB']\n"
          ]
        }
      ]
    },
    {
      "cell_type": "code",
      "source": [
        "df.nunique() # bütün sütunların benzersiz değerlerini aldık"
      ],
      "metadata": {
        "execution": {
          "iopub.status.busy": "2022-12-10T10:53:48.932553Z",
          "iopub.execute_input": "2022-12-10T10:53:48.933832Z",
          "iopub.status.idle": "2022-12-10T10:53:48.945051Z",
          "shell.execute_reply.started": "2022-12-10T10:53:48.933770Z",
          "shell.execute_reply": "2022-12-10T10:53:48.943570Z"
        },
        "trusted": true,
        "id": "53dKQhNO3ln7",
        "outputId": "91c3b9f3-18d7-4cf5-d2da-5364b358ebc6",
        "colab": {
          "base_uri": "https://localhost:8080/"
        }
      },
      "execution_count": null,
      "outputs": [
        {
          "output_type": "execute_result",
          "data": {
            "text/plain": [
              "Age             57\n",
              "gender           2\n",
              "BP               3\n",
              "Cholesterol      2\n",
              "Na_to_K        198\n",
              "Drug             5\n",
              "dtype: int64"
            ]
          },
          "metadata": {},
          "execution_count": 13
        }
      ]
    },
    {
      "cell_type": "code",
      "source": [
        "df.info() \n",
        "#Toplamda 0'dan 199'a 200 satırlık verimiz var.\n",
        "# 6 sütun var.\n",
        "# Null değer yok, yani her satırda veri mevcut\n",
        "# Verilerin türleri yazıyor."
      ],
      "metadata": {
        "colab": {
          "base_uri": "https://localhost:8080/"
        },
        "id": "SYrCB16tTLKd",
        "outputId": "8f12f959-5b09-4e1c-d404-81b060f15a86"
      },
      "execution_count": null,
      "outputs": [
        {
          "output_type": "stream",
          "name": "stdout",
          "text": [
            "<class 'pandas.core.frame.DataFrame'>\n",
            "RangeIndex: 200 entries, 0 to 199\n",
            "Data columns (total 6 columns):\n",
            " #   Column       Non-Null Count  Dtype  \n",
            "---  ------       --------------  -----  \n",
            " 0   Age          200 non-null    int64  \n",
            " 1   gender       200 non-null    int64  \n",
            " 2   BP           200 non-null    int64  \n",
            " 3   Cholesterol  200 non-null    int64  \n",
            " 4   Na_to_K      200 non-null    float64\n",
            " 5   Drug         200 non-null    object \n",
            "dtypes: float64(1), int64(4), object(1)\n",
            "memory usage: 9.5+ KB\n"
          ]
        }
      ]
    },
    {
      "cell_type": "code",
      "source": [
        "df.describe() # verilerimizin tanımlayıcı istatistiğine bakıyoruz "
      ],
      "metadata": {
        "colab": {
          "base_uri": "https://localhost:8080/",
          "height": 300
        },
        "id": "iPPosL7wSNrq",
        "outputId": "b7d860d1-724f-46b1-88aa-d47921b7984d"
      },
      "execution_count": null,
      "outputs": [
        {
          "output_type": "execute_result",
          "data": {
            "text/plain": [
              "              Age      gender          BP  Cholesterol     Na_to_K\n",
              "count  200.000000  200.000000  200.000000   200.000000  200.000000\n",
              "mean    44.315000    0.520000    0.910000     0.485000   16.084485\n",
              "std     16.544315    0.500854    0.821752     0.501029    7.223956\n",
              "min     15.000000    0.000000    0.000000     0.000000    6.269000\n",
              "25%     31.000000    0.000000    0.000000     0.000000   10.445500\n",
              "50%     45.000000    1.000000    1.000000     0.000000   13.936500\n",
              "75%     58.000000    1.000000    2.000000     1.000000   19.380000\n",
              "max     74.000000    1.000000    2.000000     1.000000   38.247000"
            ],
            "text/html": [
              "\n",
              "  <div id=\"df-1fc15e60-45d4-4548-9bee-e5d6ac73e7c1\">\n",
              "    <div class=\"colab-df-container\">\n",
              "      <div>\n",
              "<style scoped>\n",
              "    .dataframe tbody tr th:only-of-type {\n",
              "        vertical-align: middle;\n",
              "    }\n",
              "\n",
              "    .dataframe tbody tr th {\n",
              "        vertical-align: top;\n",
              "    }\n",
              "\n",
              "    .dataframe thead th {\n",
              "        text-align: right;\n",
              "    }\n",
              "</style>\n",
              "<table border=\"1\" class=\"dataframe\">\n",
              "  <thead>\n",
              "    <tr style=\"text-align: right;\">\n",
              "      <th></th>\n",
              "      <th>Age</th>\n",
              "      <th>gender</th>\n",
              "      <th>BP</th>\n",
              "      <th>Cholesterol</th>\n",
              "      <th>Na_to_K</th>\n",
              "    </tr>\n",
              "  </thead>\n",
              "  <tbody>\n",
              "    <tr>\n",
              "      <th>count</th>\n",
              "      <td>200.000000</td>\n",
              "      <td>200.000000</td>\n",
              "      <td>200.000000</td>\n",
              "      <td>200.000000</td>\n",
              "      <td>200.000000</td>\n",
              "    </tr>\n",
              "    <tr>\n",
              "      <th>mean</th>\n",
              "      <td>44.315000</td>\n",
              "      <td>0.520000</td>\n",
              "      <td>0.910000</td>\n",
              "      <td>0.485000</td>\n",
              "      <td>16.084485</td>\n",
              "    </tr>\n",
              "    <tr>\n",
              "      <th>std</th>\n",
              "      <td>16.544315</td>\n",
              "      <td>0.500854</td>\n",
              "      <td>0.821752</td>\n",
              "      <td>0.501029</td>\n",
              "      <td>7.223956</td>\n",
              "    </tr>\n",
              "    <tr>\n",
              "      <th>min</th>\n",
              "      <td>15.000000</td>\n",
              "      <td>0.000000</td>\n",
              "      <td>0.000000</td>\n",
              "      <td>0.000000</td>\n",
              "      <td>6.269000</td>\n",
              "    </tr>\n",
              "    <tr>\n",
              "      <th>25%</th>\n",
              "      <td>31.000000</td>\n",
              "      <td>0.000000</td>\n",
              "      <td>0.000000</td>\n",
              "      <td>0.000000</td>\n",
              "      <td>10.445500</td>\n",
              "    </tr>\n",
              "    <tr>\n",
              "      <th>50%</th>\n",
              "      <td>45.000000</td>\n",
              "      <td>1.000000</td>\n",
              "      <td>1.000000</td>\n",
              "      <td>0.000000</td>\n",
              "      <td>13.936500</td>\n",
              "    </tr>\n",
              "    <tr>\n",
              "      <th>75%</th>\n",
              "      <td>58.000000</td>\n",
              "      <td>1.000000</td>\n",
              "      <td>2.000000</td>\n",
              "      <td>1.000000</td>\n",
              "      <td>19.380000</td>\n",
              "    </tr>\n",
              "    <tr>\n",
              "      <th>max</th>\n",
              "      <td>74.000000</td>\n",
              "      <td>1.000000</td>\n",
              "      <td>2.000000</td>\n",
              "      <td>1.000000</td>\n",
              "      <td>38.247000</td>\n",
              "    </tr>\n",
              "  </tbody>\n",
              "</table>\n",
              "</div>\n",
              "      <button class=\"colab-df-convert\" onclick=\"convertToInteractive('df-1fc15e60-45d4-4548-9bee-e5d6ac73e7c1')\"\n",
              "              title=\"Convert this dataframe to an interactive table.\"\n",
              "              style=\"display:none;\">\n",
              "        \n",
              "  <svg xmlns=\"http://www.w3.org/2000/svg\" height=\"24px\"viewBox=\"0 0 24 24\"\n",
              "       width=\"24px\">\n",
              "    <path d=\"M0 0h24v24H0V0z\" fill=\"none\"/>\n",
              "    <path d=\"M18.56 5.44l.94 2.06.94-2.06 2.06-.94-2.06-.94-.94-2.06-.94 2.06-2.06.94zm-11 1L8.5 8.5l.94-2.06 2.06-.94-2.06-.94L8.5 2.5l-.94 2.06-2.06.94zm10 10l.94 2.06.94-2.06 2.06-.94-2.06-.94-.94-2.06-.94 2.06-2.06.94z\"/><path d=\"M17.41 7.96l-1.37-1.37c-.4-.4-.92-.59-1.43-.59-.52 0-1.04.2-1.43.59L10.3 9.45l-7.72 7.72c-.78.78-.78 2.05 0 2.83L4 21.41c.39.39.9.59 1.41.59.51 0 1.02-.2 1.41-.59l7.78-7.78 2.81-2.81c.8-.78.8-2.07 0-2.86zM5.41 20L4 18.59l7.72-7.72 1.47 1.35L5.41 20z\"/>\n",
              "  </svg>\n",
              "      </button>\n",
              "      \n",
              "  <style>\n",
              "    .colab-df-container {\n",
              "      display:flex;\n",
              "      flex-wrap:wrap;\n",
              "      gap: 12px;\n",
              "    }\n",
              "\n",
              "    .colab-df-convert {\n",
              "      background-color: #E8F0FE;\n",
              "      border: none;\n",
              "      border-radius: 50%;\n",
              "      cursor: pointer;\n",
              "      display: none;\n",
              "      fill: #1967D2;\n",
              "      height: 32px;\n",
              "      padding: 0 0 0 0;\n",
              "      width: 32px;\n",
              "    }\n",
              "\n",
              "    .colab-df-convert:hover {\n",
              "      background-color: #E2EBFA;\n",
              "      box-shadow: 0px 1px 2px rgba(60, 64, 67, 0.3), 0px 1px 3px 1px rgba(60, 64, 67, 0.15);\n",
              "      fill: #174EA6;\n",
              "    }\n",
              "\n",
              "    [theme=dark] .colab-df-convert {\n",
              "      background-color: #3B4455;\n",
              "      fill: #D2E3FC;\n",
              "    }\n",
              "\n",
              "    [theme=dark] .colab-df-convert:hover {\n",
              "      background-color: #434B5C;\n",
              "      box-shadow: 0px 1px 3px 1px rgba(0, 0, 0, 0.15);\n",
              "      filter: drop-shadow(0px 1px 2px rgba(0, 0, 0, 0.3));\n",
              "      fill: #FFFFFF;\n",
              "    }\n",
              "  </style>\n",
              "\n",
              "      <script>\n",
              "        const buttonEl =\n",
              "          document.querySelector('#df-1fc15e60-45d4-4548-9bee-e5d6ac73e7c1 button.colab-df-convert');\n",
              "        buttonEl.style.display =\n",
              "          google.colab.kernel.accessAllowed ? 'block' : 'none';\n",
              "\n",
              "        async function convertToInteractive(key) {\n",
              "          const element = document.querySelector('#df-1fc15e60-45d4-4548-9bee-e5d6ac73e7c1');\n",
              "          const dataTable =\n",
              "            await google.colab.kernel.invokeFunction('convertToInteractive',\n",
              "                                                     [key], {});\n",
              "          if (!dataTable) return;\n",
              "\n",
              "          const docLinkHtml = 'Like what you see? Visit the ' +\n",
              "            '<a target=\"_blank\" href=https://colab.research.google.com/notebooks/data_table.ipynb>data table notebook</a>'\n",
              "            + ' to learn more about interactive tables.';\n",
              "          element.innerHTML = '';\n",
              "          dataTable['output_type'] = 'display_data';\n",
              "          await google.colab.output.renderOutput(dataTable, element);\n",
              "          const docLink = document.createElement('div');\n",
              "          docLink.innerHTML = docLinkHtml;\n",
              "          element.appendChild(docLink);\n",
              "        }\n",
              "      </script>\n",
              "    </div>\n",
              "  </div>\n",
              "  "
            ]
          },
          "metadata": {},
          "execution_count": 15
        }
      ]
    },
    {
      "cell_type": "markdown",
      "source": [
        "***veri setinin hazırlanması***"
      ],
      "metadata": {
        "id": "kba3s-bK8jkl"
      }
    },
    {
      "cell_type": "code",
      "source": [
        "# veri setinde bir sütun ismi değiştiriyoruz  \n",
        "df.rename({\"Sex\": \"gender\"}, axis=\"columns\", inplace=True)\n",
        "df.head()"
      ],
      "metadata": {
        "execution": {
          "iopub.status.busy": "2022-12-10T09:52:46.639264Z",
          "iopub.execute_input": "2022-12-10T09:52:46.639756Z",
          "iopub.status.idle": "2022-12-10T09:52:46.657172Z",
          "shell.execute_reply.started": "2022-12-10T09:52:46.639719Z",
          "shell.execute_reply": "2022-12-10T09:52:46.656013Z"
        },
        "trusted": true,
        "id": "18OZ9ZNY3ln4",
        "outputId": "e29e0f80-a04e-4d7b-d68f-2686f8e6fd7b",
        "colab": {
          "base_uri": "https://localhost:8080/",
          "height": 206
        }
      },
      "execution_count": null,
      "outputs": [
        {
          "output_type": "execute_result",
          "data": {
            "text/plain": [
              "   Age  gender  BP  Cholesterol  Na_to_K   Drug\n",
              "0   23       0   0            0   25.355  DrugY\n",
              "1   47       1   1            0   13.093  drugC\n",
              "2   47       1   1            0   10.114  drugC\n",
              "3   28       0   2            0    7.798  drugX\n",
              "4   61       0   1            0   18.043  DrugY"
            ],
            "text/html": [
              "\n",
              "  <div id=\"df-0287d156-8832-44a4-9214-5d06c72a071c\">\n",
              "    <div class=\"colab-df-container\">\n",
              "      <div>\n",
              "<style scoped>\n",
              "    .dataframe tbody tr th:only-of-type {\n",
              "        vertical-align: middle;\n",
              "    }\n",
              "\n",
              "    .dataframe tbody tr th {\n",
              "        vertical-align: top;\n",
              "    }\n",
              "\n",
              "    .dataframe thead th {\n",
              "        text-align: right;\n",
              "    }\n",
              "</style>\n",
              "<table border=\"1\" class=\"dataframe\">\n",
              "  <thead>\n",
              "    <tr style=\"text-align: right;\">\n",
              "      <th></th>\n",
              "      <th>Age</th>\n",
              "      <th>gender</th>\n",
              "      <th>BP</th>\n",
              "      <th>Cholesterol</th>\n",
              "      <th>Na_to_K</th>\n",
              "      <th>Drug</th>\n",
              "    </tr>\n",
              "  </thead>\n",
              "  <tbody>\n",
              "    <tr>\n",
              "      <th>0</th>\n",
              "      <td>23</td>\n",
              "      <td>0</td>\n",
              "      <td>0</td>\n",
              "      <td>0</td>\n",
              "      <td>25.355</td>\n",
              "      <td>DrugY</td>\n",
              "    </tr>\n",
              "    <tr>\n",
              "      <th>1</th>\n",
              "      <td>47</td>\n",
              "      <td>1</td>\n",
              "      <td>1</td>\n",
              "      <td>0</td>\n",
              "      <td>13.093</td>\n",
              "      <td>drugC</td>\n",
              "    </tr>\n",
              "    <tr>\n",
              "      <th>2</th>\n",
              "      <td>47</td>\n",
              "      <td>1</td>\n",
              "      <td>1</td>\n",
              "      <td>0</td>\n",
              "      <td>10.114</td>\n",
              "      <td>drugC</td>\n",
              "    </tr>\n",
              "    <tr>\n",
              "      <th>3</th>\n",
              "      <td>28</td>\n",
              "      <td>0</td>\n",
              "      <td>2</td>\n",
              "      <td>0</td>\n",
              "      <td>7.798</td>\n",
              "      <td>drugX</td>\n",
              "    </tr>\n",
              "    <tr>\n",
              "      <th>4</th>\n",
              "      <td>61</td>\n",
              "      <td>0</td>\n",
              "      <td>1</td>\n",
              "      <td>0</td>\n",
              "      <td>18.043</td>\n",
              "      <td>DrugY</td>\n",
              "    </tr>\n",
              "  </tbody>\n",
              "</table>\n",
              "</div>\n",
              "      <button class=\"colab-df-convert\" onclick=\"convertToInteractive('df-0287d156-8832-44a4-9214-5d06c72a071c')\"\n",
              "              title=\"Convert this dataframe to an interactive table.\"\n",
              "              style=\"display:none;\">\n",
              "        \n",
              "  <svg xmlns=\"http://www.w3.org/2000/svg\" height=\"24px\"viewBox=\"0 0 24 24\"\n",
              "       width=\"24px\">\n",
              "    <path d=\"M0 0h24v24H0V0z\" fill=\"none\"/>\n",
              "    <path d=\"M18.56 5.44l.94 2.06.94-2.06 2.06-.94-2.06-.94-.94-2.06-.94 2.06-2.06.94zm-11 1L8.5 8.5l.94-2.06 2.06-.94-2.06-.94L8.5 2.5l-.94 2.06-2.06.94zm10 10l.94 2.06.94-2.06 2.06-.94-2.06-.94-.94-2.06-.94 2.06-2.06.94z\"/><path d=\"M17.41 7.96l-1.37-1.37c-.4-.4-.92-.59-1.43-.59-.52 0-1.04.2-1.43.59L10.3 9.45l-7.72 7.72c-.78.78-.78 2.05 0 2.83L4 21.41c.39.39.9.59 1.41.59.51 0 1.02-.2 1.41-.59l7.78-7.78 2.81-2.81c.8-.78.8-2.07 0-2.86zM5.41 20L4 18.59l7.72-7.72 1.47 1.35L5.41 20z\"/>\n",
              "  </svg>\n",
              "      </button>\n",
              "      \n",
              "  <style>\n",
              "    .colab-df-container {\n",
              "      display:flex;\n",
              "      flex-wrap:wrap;\n",
              "      gap: 12px;\n",
              "    }\n",
              "\n",
              "    .colab-df-convert {\n",
              "      background-color: #E8F0FE;\n",
              "      border: none;\n",
              "      border-radius: 50%;\n",
              "      cursor: pointer;\n",
              "      display: none;\n",
              "      fill: #1967D2;\n",
              "      height: 32px;\n",
              "      padding: 0 0 0 0;\n",
              "      width: 32px;\n",
              "    }\n",
              "\n",
              "    .colab-df-convert:hover {\n",
              "      background-color: #E2EBFA;\n",
              "      box-shadow: 0px 1px 2px rgba(60, 64, 67, 0.3), 0px 1px 3px 1px rgba(60, 64, 67, 0.15);\n",
              "      fill: #174EA6;\n",
              "    }\n",
              "\n",
              "    [theme=dark] .colab-df-convert {\n",
              "      background-color: #3B4455;\n",
              "      fill: #D2E3FC;\n",
              "    }\n",
              "\n",
              "    [theme=dark] .colab-df-convert:hover {\n",
              "      background-color: #434B5C;\n",
              "      box-shadow: 0px 1px 3px 1px rgba(0, 0, 0, 0.15);\n",
              "      filter: drop-shadow(0px 1px 2px rgba(0, 0, 0, 0.3));\n",
              "      fill: #FFFFFF;\n",
              "    }\n",
              "  </style>\n",
              "\n",
              "      <script>\n",
              "        const buttonEl =\n",
              "          document.querySelector('#df-0287d156-8832-44a4-9214-5d06c72a071c button.colab-df-convert');\n",
              "        buttonEl.style.display =\n",
              "          google.colab.kernel.accessAllowed ? 'block' : 'none';\n",
              "\n",
              "        async function convertToInteractive(key) {\n",
              "          const element = document.querySelector('#df-0287d156-8832-44a4-9214-5d06c72a071c');\n",
              "          const dataTable =\n",
              "            await google.colab.kernel.invokeFunction('convertToInteractive',\n",
              "                                                     [key], {});\n",
              "          if (!dataTable) return;\n",
              "\n",
              "          const docLinkHtml = 'Like what you see? Visit the ' +\n",
              "            '<a target=\"_blank\" href=https://colab.research.google.com/notebooks/data_table.ipynb>data table notebook</a>'\n",
              "            + ' to learn more about interactive tables.';\n",
              "          element.innerHTML = '';\n",
              "          dataTable['output_type'] = 'display_data';\n",
              "          await google.colab.output.renderOutput(dataTable, element);\n",
              "          const docLink = document.createElement('div');\n",
              "          docLink.innerHTML = docLinkHtml;\n",
              "          element.appendChild(docLink);\n",
              "        }\n",
              "      </script>\n",
              "    </div>\n",
              "  </div>\n",
              "  "
            ]
          },
          "metadata": {},
          "execution_count": 16
        }
      ]
    },
    {
      "cell_type": "code",
      "source": [
        "df.isna().sum() # burada ise hangi değişkenimizde kaç adert eksik değer olduğunu gösterdik"
      ],
      "metadata": {
        "colab": {
          "base_uri": "https://localhost:8080/"
        },
        "id": "-W_dAzj-hygL",
        "outputId": "96697db1-fe93-4244-d246-f78928c5fb98"
      },
      "execution_count": null,
      "outputs": [
        {
          "output_type": "execute_result",
          "data": {
            "text/plain": [
              "Age            0\n",
              "gender         0\n",
              "BP             0\n",
              "Cholesterol    0\n",
              "Na_to_K        0\n",
              "Drug           0\n",
              "dtype: int64"
            ]
          },
          "metadata": {},
          "execution_count": 17
        }
      ]
    },
    {
      "cell_type": "code",
      "source": [
        "df['Drug'].value_counts()\n",
        "# burada Drug değişkenimizin dengeli dağılıp dağılmadığını kontrol ettik"
      ],
      "metadata": {
        "colab": {
          "base_uri": "https://localhost:8080/"
        },
        "id": "wjxHix77idYa",
        "outputId": "70f93a63-7307-4a3d-e34d-ba4e5ae73683"
      },
      "execution_count": null,
      "outputs": [
        {
          "output_type": "execute_result",
          "data": {
            "text/plain": [
              "DrugY    91\n",
              "drugX    54\n",
              "drugA    23\n",
              "drugC    16\n",
              "drugB    16\n",
              "Name: Drug, dtype: int64"
            ]
          },
          "metadata": {},
          "execution_count": 18
        }
      ]
    },
    {
      "cell_type": "code",
      "source": [
        "sns.FacetGrid(df,hue='Drug',height=5)\\ \n",
        ".map(plt.scatter,'Age','Na_to_K')\\\n",
        ".add_legend()\n",
        "\n",
        "# bu veri görselleştirmesinde drug sütunun yaş ve potasyum ve sodyum değerleri ile ilişkisi incelenmiştir \n",
        "# kullanılan grafik seaborn kütüphanesinin saçılım grafiğidir \n",
        "# benzersiz ilaç değerlerinin yaş ve potasyum ve sodyum değerleri altında dağılımı renklendirilerek gösterilmiştir "
      ],
      "metadata": {
        "colab": {
          "base_uri": "https://localhost:8080/",
          "height": 386
        },
        "id": "4B0wpSHAf0Rj",
        "outputId": "0fdd2ae2-8793-406e-a2f8-f3598f59d75f"
      },
      "execution_count": null,
      "outputs": [
        {
          "output_type": "execute_result",
          "data": {
            "text/plain": [
              "<seaborn.axisgrid.FacetGrid at 0x7f1573fd81f0>"
            ]
          },
          "metadata": {},
          "execution_count": 19
        },
        {
          "output_type": "display_data",
          "data": {
            "text/plain": [
              "<Figure size 426.625x360 with 1 Axes>"
            ],
            "image/png": "[encoded data removed]"
          },
          "metadata": {
            "needs_background": "light"
          }
        }
      ]
    },
    {
      "cell_type": "code",
      "source": [
        "#veri seti içindeki tüm değişkenlerin birbirleri ile olan ilişkilerini gösteren grafikler verir\n",
        "sns.pairplot(df,hue='Drug')"
      ],
      "metadata": {
        "colab": {
          "base_uri": "https://localhost:8080/",
          "height": 920
        },
        "id": "ry8vpdGZkTea",
        "outputId": "61824355-c6ed-44ce-95c4-33d3f37fbaf3"
      },
      "execution_count": null,
      "outputs": [
        {
          "output_type": "execute_result",
          "data": {
            "text/plain": [
              "<seaborn.axisgrid.PairGrid at 0x7f15716e2e50>"
            ]
          },
          "metadata": {},
          "execution_count": 20
        },
        {
          "output_type": "display_data",
          "data": {
            "text/plain": [
              "<Figure size 966.625x900 with 30 Axes>"
            ],
            "image/png": "[encoded data removed]"
          },
          "metadata": {
            "needs_background": "light"
          }
        }
      ]
    },
    {
      "cell_type": "markdown",
      "source": [
        "yukarıda bağımsız değişkenlerimiz olan sodyum_poatasyum oranı ve yaş değişkenlerini içeren grafikler görünmektedir bu grafiklere göre \n",
        "1. ilaç A,B,X,C ilaçları genel anlamda potasyum değerleri düşük(5-15) olan hastalar üzerinde kullanılmaktadır \n",
        "2. y ilacı ise potasyum değeri 15-35 aralığında olan hastaların tedavisinde kullanılmaktadır\n",
        "3. çok fazla grafiğin olmamasının sebebi nümerik değerlerin az olması sebebiyledir "
      ],
      "metadata": {
        "id": "2aVLtU1Ztq9J"
      }
    },
    {
      "cell_type": "code",
      "source": [
        "X = df.iloc[:, :-1].values    # x değerine ilk 5 sütun değerini atadık\n",
        "y = df.iloc[:, -1].values    # y değişkenine son sütun değerini atadık \n",
        "print(X)             #  print diyerek atadığımız değerleri yazdırdık \n",
        "print(y)\n",
        "X.shape   # atadığımız değerlerin boyutlarını öğrendik \n",
        "y.shape\n",
        "\n",
        "#elimizde olan x verileri ile mevcut modelimizi eğiteceğiz \n",
        "#elimizde olan y verisi ile de modelimizi tahmin için kullanacağız "
      ],
      "metadata": {
        "execution": {
          "iopub.status.busy": "2022-12-10T10:53:50.860039Z",
          "iopub.execute_input": "2022-12-10T10:53:50.860452Z",
          "iopub.status.idle": "2022-12-10T10:53:50.883630Z",
          "shell.execute_reply.started": "2022-12-10T10:53:50.860416Z",
          "shell.execute_reply": "2022-12-10T10:53:50.882428Z"
        },
        "trusted": true,
        "id": "tXbXALA_3ln8",
        "outputId": "e1d1d82b-45c3-414b-d8bc-08b2ca01bace",
        "colab": {
          "base_uri": "https://localhost:8080/"
        }
      },
      "execution_count": null,
      "outputs": [
        {
          "output_type": "stream",
          "name": "stdout",
          "text": [
            "[[23.     0.     0.     0.    25.355]\n",
            " [47.     1.     1.     0.    13.093]\n",
            " [47.     1.     1.     0.    10.114]\n",
            " [28.     0.     2.     0.     7.798]\n",
            " [61.     0.     1.     0.    18.043]\n",
            " [22.     0.     2.     0.     8.607]\n",
            " [49.     0.     2.     0.    16.275]\n",
            " [41.     1.     1.     0.    11.037]\n",
            " [60.     1.     2.     0.    15.171]\n",
            " [43.     1.     1.     1.    19.368]\n",
            " [47.     0.     1.     0.    11.767]\n",
            " [34.     0.     0.     1.    19.199]\n",
            " [43.     1.     1.     0.    15.376]\n",
            " [74.     0.     1.     0.    20.942]\n",
            " [50.     0.     2.     0.    12.703]\n",
            " [16.     0.     0.     1.    15.516]\n",
            " [69.     1.     1.     1.    11.455]\n",
            " [43.     1.     0.     0.    13.972]\n",
            " [23.     1.     1.     0.     7.298]\n",
            " [32.     0.     0.     1.    25.974]\n",
            " [57.     1.     1.     1.    19.128]\n",
            " [63.     1.     2.     0.    25.917]\n",
            " [47.     1.     1.     1.    30.568]\n",
            " [48.     0.     1.     0.    15.036]\n",
            " [33.     0.     1.     0.    33.486]\n",
            " [28.     0.     0.     1.    18.809]\n",
            " [31.     1.     0.     0.    30.366]\n",
            " [49.     0.     2.     1.     9.381]\n",
            " [39.     0.     1.     1.    22.697]\n",
            " [45.     1.     1.     0.    17.951]\n",
            " [18.     0.     2.     1.     8.75 ]\n",
            " [74.     1.     0.     0.     9.567]\n",
            " [49.     1.     1.     1.    11.014]\n",
            " [65.     0.     0.     1.    31.876]\n",
            " [53.     1.     2.     0.    14.133]\n",
            " [46.     1.     2.     1.     7.285]\n",
            " [32.     1.     0.     1.     9.445]\n",
            " [39.     1.     1.     1.    13.938]\n",
            " [39.     0.     2.     1.     9.709]\n",
            " [15.     1.     2.     0.     9.084]\n",
            " [73.     0.     2.     0.    19.221]\n",
            " [58.     0.     0.     1.    14.239]\n",
            " [50.     1.     2.     1.    15.79 ]\n",
            " [23.     1.     2.     0.    12.26 ]\n",
            " [50.     0.     2.     1.    12.295]\n",
            " [66.     0.     2.     1.     8.107]\n",
            " [37.     0.     0.     0.    13.091]\n",
            " [68.     1.     1.     0.    10.291]\n",
            " [23.     1.     2.     0.    31.686]\n",
            " [28.     0.     1.     0.    19.796]\n",
            " [58.     0.     0.     0.    19.416]\n",
            " [67.     1.     2.     1.    10.898]\n",
            " [62.     1.     1.     1.    27.183]\n",
            " [24.     0.     0.     1.    18.457]\n",
            " [68.     0.     0.     1.    10.189]\n",
            " [26.     0.     1.     0.    14.16 ]\n",
            " [65.     1.     0.     1.    11.34 ]\n",
            " [40.     1.     0.     0.    27.826]\n",
            " [60.     1.     2.     1.    10.091]\n",
            " [34.     1.     0.     0.    18.703]\n",
            " [38.     0.     1.     1.    29.875]\n",
            " [24.     1.     0.     1.     9.475]\n",
            " [67.     1.     1.     1.    20.693]\n",
            " [45.     1.     1.     1.     8.37 ]\n",
            " [60.     0.     0.     0.    13.303]\n",
            " [68.     0.     2.     1.    27.05 ]\n",
            " [29.     1.     0.     0.    12.856]\n",
            " [17.     1.     2.     1.    10.832]\n",
            " [54.     1.     2.     0.    24.658]\n",
            " [18.     0.     0.     1.    24.276]\n",
            " [70.     1.     0.     0.    13.967]\n",
            " [28.     0.     2.     0.    19.675]\n",
            " [24.     0.     2.     0.    10.605]\n",
            " [41.     0.     2.     1.    22.905]\n",
            " [31.     1.     0.     1.    17.069]\n",
            " [26.     1.     1.     1.    20.909]\n",
            " [36.     0.     0.     0.    11.198]\n",
            " [26.     0.     0.     1.    19.161]\n",
            " [19.     0.     0.     0.    13.313]\n",
            " [32.     0.     1.     1.    10.84 ]\n",
            " [60.     1.     0.     0.    13.934]\n",
            " [64.     1.     2.     0.     7.761]\n",
            " [32.     0.     1.     0.     9.712]\n",
            " [38.     0.     0.     1.    11.326]\n",
            " [47.     0.     1.     0.    10.067]\n",
            " [59.     1.     0.     0.    13.935]\n",
            " [51.     0.     2.     0.    13.597]\n",
            " [69.     1.     1.     0.    15.478]\n",
            " [37.     0.     0.     1.    23.091]\n",
            " [50.     0.     2.     1.    17.211]\n",
            " [62.     1.     2.     0.    16.594]\n",
            " [41.     1.     0.     1.    15.156]\n",
            " [29.     0.     0.     0.    29.45 ]\n",
            " [42.     0.     1.     1.    29.271]\n",
            " [56.     1.     1.     0.    15.015]\n",
            " [36.     1.     1.     1.    11.424]\n",
            " [58.     0.     1.     0.    38.247]\n",
            " [56.     0.     0.     0.    25.395]\n",
            " [20.     1.     0.     1.    35.639]\n",
            " [15.     0.     0.     1.    16.725]\n",
            " [31.     1.     0.     1.    11.871]\n",
            " [45.     0.     0.     0.    12.854]\n",
            " [28.     0.     1.     0.    13.127]\n",
            " [56.     1.     2.     0.     8.966]\n",
            " [22.     1.     0.     1.    28.294]\n",
            " [37.     1.     1.     1.     8.968]\n",
            " [22.     1.     2.     0.    11.953]\n",
            " [42.     1.     1.     0.    20.013]\n",
            " [72.     1.     0.     1.     9.677]\n",
            " [23.     1.     2.     0.    16.85 ]\n",
            " [50.     1.     0.     0.     7.49 ]\n",
            " [47.     0.     2.     1.     6.683]\n",
            " [35.     1.     1.     1.     9.17 ]\n",
            " [65.     0.     1.     1.    13.769]\n",
            " [20.     0.     2.     1.     9.281]\n",
            " [51.     1.     0.     0.    18.295]\n",
            " [67.     1.     2.     1.     9.514]\n",
            " [40.     0.     2.     0.    10.103]\n",
            " [32.     0.     0.     1.    10.292]\n",
            " [61.     0.     0.     0.    25.475]\n",
            " [28.     1.     2.     0.    27.064]\n",
            " [15.     1.     0.     1.    17.206]\n",
            " [34.     1.     2.     0.    22.456]\n",
            " [36.     0.     2.     0.    16.753]\n",
            " [53.     0.     0.     1.    12.495]\n",
            " [19.     0.     0.     1.    25.969]\n",
            " [66.     1.     0.     0.    16.347]\n",
            " [35.     1.     2.     1.     7.845]\n",
            " [47.     1.     1.     1.    33.542]\n",
            " [32.     0.     2.     0.     7.477]\n",
            " [70.     0.     2.     0.    20.489]\n",
            " [52.     1.     1.     1.    32.922]\n",
            " [49.     1.     1.     1.    13.598]\n",
            " [24.     1.     2.     0.    25.786]\n",
            " [42.     0.     0.     0.    21.036]\n",
            " [74.     1.     1.     1.    11.939]\n",
            " [55.     0.     0.     0.    10.977]\n",
            " [35.     0.     0.     0.    12.894]\n",
            " [51.     1.     0.     1.    11.343]\n",
            " [69.     0.     2.     0.    10.065]\n",
            " [49.     1.     0.     1.     6.269]\n",
            " [64.     0.     1.     1.    25.741]\n",
            " [60.     1.     0.     1.     8.621]\n",
            " [74.     1.     0.     1.    15.436]\n",
            " [39.     1.     0.     0.     9.664]\n",
            " [61.     1.     2.     0.     9.443]\n",
            " [37.     0.     1.     1.    12.006]\n",
            " [26.     0.     0.     1.    12.307]\n",
            " [61.     0.     1.     1.     7.34 ]\n",
            " [22.     1.     1.     0.     8.151]\n",
            " [49.     1.     0.     1.     8.7  ]\n",
            " [68.     1.     0.     0.    11.009]\n",
            " [55.     1.     2.     1.     7.261]\n",
            " [72.     0.     1.     1.    14.642]\n",
            " [37.     1.     1.     1.    16.724]\n",
            " [49.     1.     1.     0.    10.537]\n",
            " [31.     1.     0.     1.    11.227]\n",
            " [53.     1.     1.     0.    22.963]\n",
            " [59.     0.     1.     0.    10.444]\n",
            " [34.     0.     1.     1.    12.923]\n",
            " [30.     0.     2.     0.    10.443]\n",
            " [57.     0.     0.     1.     9.945]\n",
            " [43.     1.     2.     1.    12.859]\n",
            " [21.     0.     0.     1.    28.632]\n",
            " [16.     1.     0.     1.    19.007]\n",
            " [38.     1.     1.     0.    18.295]\n",
            " [58.     0.     1.     0.    26.645]\n",
            " [57.     0.     2.     0.    14.216]\n",
            " [51.     0.     1.     1.    23.003]\n",
            " [20.     0.     0.     0.    11.262]\n",
            " [28.     0.     2.     0.    12.879]\n",
            " [45.     1.     1.     1.    10.017]\n",
            " [39.     0.     2.     1.    17.225]\n",
            " [41.     0.     1.     1.    18.739]\n",
            " [42.     1.     0.     1.    12.766]\n",
            " [73.     0.     0.     0.    18.348]\n",
            " [48.     1.     0.     1.    10.446]\n",
            " [25.     1.     2.     0.    19.011]\n",
            " [39.     1.     2.     0.    15.969]\n",
            " [67.     0.     2.     0.    15.891]\n",
            " [22.     0.     0.     1.    22.818]\n",
            " [59.     0.     2.     0.    13.884]\n",
            " [20.     0.     1.     1.    11.686]\n",
            " [36.     0.     0.     1.    15.49 ]\n",
            " [18.     0.     0.     0.    37.188]\n",
            " [57.     0.     2.     1.    25.893]\n",
            " [70.     1.     0.     0.     9.849]\n",
            " [47.     1.     0.     0.    10.403]\n",
            " [65.     1.     0.     1.    34.997]\n",
            " [64.     1.     0.     1.    20.932]\n",
            " [58.     1.     0.     0.    18.991]\n",
            " [23.     1.     0.     0.     8.011]\n",
            " [72.     1.     1.     0.    16.31 ]\n",
            " [72.     1.     1.     0.     6.769]\n",
            " [46.     0.     0.     0.    34.686]\n",
            " [56.     0.     1.     0.    11.567]\n",
            " [16.     1.     1.     0.    12.006]\n",
            " [52.     1.     2.     0.     9.894]\n",
            " [23.     1.     2.     1.    14.02 ]\n",
            " [40.     0.     1.     1.    11.349]]\n",
            "['DrugY' 'drugC' 'drugC' 'drugX' 'DrugY' 'drugX' 'DrugY' 'drugC' 'DrugY'\n",
            " 'DrugY' 'drugC' 'DrugY' 'DrugY' 'DrugY' 'drugX' 'DrugY' 'drugX' 'drugA'\n",
            " 'drugC' 'DrugY' 'DrugY' 'DrugY' 'DrugY' 'DrugY' 'DrugY' 'DrugY' 'DrugY'\n",
            " 'drugX' 'DrugY' 'DrugY' 'drugX' 'drugB' 'drugX' 'DrugY' 'drugX' 'drugX'\n",
            " 'drugA' 'drugX' 'drugX' 'drugX' 'DrugY' 'drugB' 'DrugY' 'drugX' 'drugX'\n",
            " 'drugX' 'drugA' 'drugC' 'DrugY' 'DrugY' 'DrugY' 'drugX' 'DrugY' 'DrugY'\n",
            " 'drugB' 'drugC' 'drugB' 'DrugY' 'drugX' 'DrugY' 'DrugY' 'drugA' 'DrugY'\n",
            " 'drugX' 'drugB' 'DrugY' 'drugA' 'drugX' 'DrugY' 'DrugY' 'drugB' 'DrugY'\n",
            " 'drugX' 'DrugY' 'DrugY' 'DrugY' 'drugA' 'DrugY' 'drugA' 'drugX' 'drugB'\n",
            " 'drugX' 'drugC' 'drugA' 'drugC' 'drugB' 'drugX' 'DrugY' 'DrugY' 'DrugY'\n",
            " 'DrugY' 'DrugY' 'DrugY' 'DrugY' 'DrugY' 'drugX' 'DrugY' 'DrugY' 'DrugY'\n",
            " 'DrugY' 'drugA' 'drugA' 'drugC' 'drugX' 'DrugY' 'drugX' 'drugX' 'DrugY'\n",
            " 'drugB' 'DrugY' 'drugA' 'drugX' 'drugX' 'drugX' 'drugX' 'DrugY' 'drugX'\n",
            " 'drugX' 'drugA' 'DrugY' 'DrugY' 'DrugY' 'DrugY' 'DrugY' 'drugB' 'DrugY'\n",
            " 'DrugY' 'drugX' 'DrugY' 'drugX' 'DrugY' 'DrugY' 'drugX' 'DrugY' 'DrugY'\n",
            " 'drugX' 'drugB' 'drugA' 'drugB' 'drugX' 'drugA' 'DrugY' 'drugB' 'DrugY'\n",
            " 'drugA' 'drugX' 'drugX' 'drugA' 'drugX' 'drugC' 'drugA' 'drugB' 'drugX'\n",
            " 'drugX' 'DrugY' 'drugC' 'drugA' 'DrugY' 'drugC' 'drugX' 'drugX' 'drugB'\n",
            " 'drugX' 'DrugY' 'DrugY' 'DrugY' 'DrugY' 'drugX' 'DrugY' 'drugA' 'drugX'\n",
            " 'drugX' 'DrugY' 'DrugY' 'drugA' 'DrugY' 'drugA' 'DrugY' 'DrugY' 'DrugY'\n",
            " 'DrugY' 'drugX' 'drugX' 'DrugY' 'DrugY' 'DrugY' 'drugB' 'drugA' 'DrugY'\n",
            " 'DrugY' 'DrugY' 'drugA' 'DrugY' 'drugC' 'DrugY' 'drugC' 'drugC' 'drugX'\n",
            " 'drugX' 'drugX']\n"
          ]
        },
        {
          "output_type": "execute_result",
          "data": {
            "text/plain": [
              "(200,)"
            ]
          },
          "metadata": {},
          "execution_count": 21
        }
      ]
    },
    {
      "cell_type": "code",
      "source": [
        "X_train, X_test,y_train,y_test = train_test_split(X,y,test_size=0.4,random_state=0) \n",
        "#veri setimizi %30 test olmak üzere test ve eğitim verisi olarak ayırdık \n",
        " # random_state tekrar üretilebilirlik için çalıştırmalar arasında tutarlı olmalıdır"
      ],
      "metadata": {
        "execution": {
          "iopub.status.busy": "2022-12-10T10:53:51.614584Z",
          "iopub.execute_input": "2022-12-10T10:53:51.615694Z",
          "iopub.status.idle": "2022-12-10T10:53:51.621698Z",
          "shell.execute_reply.started": "2022-12-10T10:53:51.615654Z",
          "shell.execute_reply": "2022-12-10T10:53:51.620608Z"
        },
        "trusted": true,
        "id": "pTV69Yd03ln9"
      },
      "execution_count": null,
      "outputs": []
    },
    {
      "cell_type": "code",
      "source": [
        "#eğitim ve test verisi olarak ayırmış olduğumuz verilerin boyutlarını öğrendik \n",
        "print(X_train.shape)\n",
        "print(X_test.shape)\n",
        "print(y_train.shape)\n",
        "print(y_test.shape)"
      ],
      "metadata": {
        "execution": {
          "iopub.status.busy": "2022-12-10T10:53:51.684938Z",
          "iopub.execute_input": "2022-12-10T10:53:51.685575Z",
          "iopub.status.idle": "2022-12-10T10:53:51.691459Z",
          "shell.execute_reply.started": "2022-12-10T10:53:51.685535Z",
          "shell.execute_reply": "2022-12-10T10:53:51.690392Z"
        },
        "trusted": true,
        "id": "68jbfL9m3ln-",
        "outputId": "d4d4a677-eb33-4c34-8ed0-d87276c589ab",
        "colab": {
          "base_uri": "https://localhost:8080/"
        }
      },
      "execution_count": null,
      "outputs": [
        {
          "output_type": "stream",
          "name": "stdout",
          "text": [
            "(120, 5)\n",
            "(80, 5)\n",
            "(120,)\n",
            "(80,)\n"
          ]
        }
      ]
    },
    {
      "cell_type": "markdown",
      "source": [
        "**modellerin kullanılması**"
      ],
      "metadata": {
        "id": "KpN_eXhaCwUq"
      }
    },
    {
      "cell_type": "markdown",
      "source": [
        "**lineer regresyon**\n",
        "\n",
        "\n",
        "Linear Regression: Sayısal girdi ve çıktılar arasındaki doğrusal ilişkiyi tespit etmeyi sağlar. Düzlemde yayılmış verinin modelini en iyi biçimde doğrusal olarak çıkartmaya çalışan yöntemdir\n",
        "\n",
        "\n",
        "\n",
        "*   Sürekli değişken(ler)e dayalı olarak gerçek değerlerin (konut maliyeti, arama sayısı, toplam satışlar vb.) tahmin edilmesinde kullanılır. Burada, bağımsız ve bağımlı değişkenler arasında en iyi çizgiyi uydurarak ilişki kurulmaktadır. Bu en uygun çizgi, regresyon çizgisi olarak bilinir ve bir doğrusal denklem Y= a X + b ile temsil edilir.\n",
        "\n"
      ],
      "metadata": {
        "id": "RUrdJg19wH_s"
      }
    },
    {
      "cell_type": "code",
      "source": [
        "XL = df.iloc[:, :-1].values    #   X -> Feature Variables\\n\",\n",
        "yL = df.iloc[:, -1].values #   y ->  Target\\n\",\n",
        "        \n",
        "from sklearn.preprocessing import LabelEncoder # kategorik verilerin sayısallaştırmamıza yarayan kütüphane import edildi \n",
        "        \n",
        "le = LabelEncoder() #encoder modülü çağrıldı \n",
        "YL = le.fit_transform(yL) # dönüştürülen veriler YL adlı değişkene atandı \n",
        "        \n",
        "print(y)  # kategorik veri\n",
        "print(YL) # sayısal veri"
      ],
      "metadata": {
        "execution": {
          "iopub.status.busy": "2022-12-10T10:53:51.942860Z",
          "iopub.execute_input": "2022-12-10T10:53:51.943248Z",
          "iopub.status.idle": "2022-12-10T10:53:51.954356Z",
          "shell.execute_reply.started": "2022-12-10T10:53:51.943217Z",
          "shell.execute_reply": "2022-12-10T10:53:51.952570Z"
        },
        "trusted": true,
        "id": "IbiwlXE83ln-",
        "outputId": "ce1023e8-0e5e-49b6-c857-dbb51e6839b7",
        "colab": {
          "base_uri": "https://localhost:8080/"
        }
      },
      "execution_count": null,
      "outputs": [
        {
          "output_type": "stream",
          "name": "stdout",
          "text": [
            "['DrugY' 'drugC' 'drugC' 'drugX' 'DrugY' 'drugX' 'DrugY' 'drugC' 'DrugY'\n",
            " 'DrugY' 'drugC' 'DrugY' 'DrugY' 'DrugY' 'drugX' 'DrugY' 'drugX' 'drugA'\n",
            " 'drugC' 'DrugY' 'DrugY' 'DrugY' 'DrugY' 'DrugY' 'DrugY' 'DrugY' 'DrugY'\n",
            " 'drugX' 'DrugY' 'DrugY' 'drugX' 'drugB' 'drugX' 'DrugY' 'drugX' 'drugX'\n",
            " 'drugA' 'drugX' 'drugX' 'drugX' 'DrugY' 'drugB' 'DrugY' 'drugX' 'drugX'\n",
            " 'drugX' 'drugA' 'drugC' 'DrugY' 'DrugY' 'DrugY' 'drugX' 'DrugY' 'DrugY'\n",
            " 'drugB' 'drugC' 'drugB' 'DrugY' 'drugX' 'DrugY' 'DrugY' 'drugA' 'DrugY'\n",
            " 'drugX' 'drugB' 'DrugY' 'drugA' 'drugX' 'DrugY' 'DrugY' 'drugB' 'DrugY'\n",
            " 'drugX' 'DrugY' 'DrugY' 'DrugY' 'drugA' 'DrugY' 'drugA' 'drugX' 'drugB'\n",
            " 'drugX' 'drugC' 'drugA' 'drugC' 'drugB' 'drugX' 'DrugY' 'DrugY' 'DrugY'\n",
            " 'DrugY' 'DrugY' 'DrugY' 'DrugY' 'DrugY' 'drugX' 'DrugY' 'DrugY' 'DrugY'\n",
            " 'DrugY' 'drugA' 'drugA' 'drugC' 'drugX' 'DrugY' 'drugX' 'drugX' 'DrugY'\n",
            " 'drugB' 'DrugY' 'drugA' 'drugX' 'drugX' 'drugX' 'drugX' 'DrugY' 'drugX'\n",
            " 'drugX' 'drugA' 'DrugY' 'DrugY' 'DrugY' 'DrugY' 'DrugY' 'drugB' 'DrugY'\n",
            " 'DrugY' 'drugX' 'DrugY' 'drugX' 'DrugY' 'DrugY' 'drugX' 'DrugY' 'DrugY'\n",
            " 'drugX' 'drugB' 'drugA' 'drugB' 'drugX' 'drugA' 'DrugY' 'drugB' 'DrugY'\n",
            " 'drugA' 'drugX' 'drugX' 'drugA' 'drugX' 'drugC' 'drugA' 'drugB' 'drugX'\n",
            " 'drugX' 'DrugY' 'drugC' 'drugA' 'DrugY' 'drugC' 'drugX' 'drugX' 'drugB'\n",
            " 'drugX' 'DrugY' 'DrugY' 'DrugY' 'DrugY' 'drugX' 'DrugY' 'drugA' 'drugX'\n",
            " 'drugX' 'DrugY' 'DrugY' 'drugA' 'DrugY' 'drugA' 'DrugY' 'DrugY' 'DrugY'\n",
            " 'DrugY' 'drugX' 'drugX' 'DrugY' 'DrugY' 'DrugY' 'drugB' 'drugA' 'DrugY'\n",
            " 'DrugY' 'DrugY' 'drugA' 'DrugY' 'drugC' 'DrugY' 'drugC' 'drugC' 'drugX'\n",
            " 'drugX' 'drugX']\n",
            "[0 3 3 4 0 4 0 3 0 0 3 0 0 0 4 0 4 1 3 0 0 0 0 0 0 0 0 4 0 0 4 2 4 0 4 4 1\n",
            " 4 4 4 0 2 0 4 4 4 1 3 0 0 0 4 0 0 2 3 2 0 4 0 0 1 0 4 2 0 1 4 0 0 2 0 4 0\n",
            " 0 0 1 0 1 4 2 4 3 1 3 2 4 0 0 0 0 0 0 0 0 4 0 0 0 0 1 1 3 4 0 4 4 0 2 0 1\n",
            " 4 4 4 4 0 4 4 1 0 0 0 0 0 2 0 0 4 0 4 0 0 4 0 0 4 2 1 2 4 1 0 2 0 1 4 4 1\n",
            " 4 3 1 2 4 4 0 3 1 0 3 4 4 2 4 0 0 0 0 4 0 1 4 4 0 0 1 0 1 0 0 0 0 4 4 0 0\n",
            " 0 2 1 0 0 0 1 0 3 0 3 3 4 4 4]\n"
          ]
        }
      ]
    },
    {
      "cell_type": "code",
      "source": [
        "X_trainL, X_testL, y_trainL, y_testL = train_test_split(XL, YL, test_size = 0.1, random_state =0) "
      ],
      "metadata": {
        "execution": {
          "iopub.status.busy": "2022-12-10T10:53:52.231609Z",
          "iopub.execute_input": "2022-12-10T10:53:52.232402Z",
          "iopub.status.idle": "2022-12-10T10:53:52.238203Z",
          "shell.execute_reply.started": "2022-12-10T10:53:52.232359Z",
          "shell.execute_reply": "2022-12-10T10:53:52.237327Z"
        },
        "trusted": true,
        "id": "pD9hNz8V3ln-"
      },
      "execution_count": null,
      "outputs": []
    },
    {
      "cell_type": "code",
      "source": [
        "print(X_trainL.shape)\n",
        "print(y_trainL.shape)"
      ],
      "metadata": {
        "execution": {
          "iopub.status.busy": "2022-12-10T10:53:52.466659Z",
          "iopub.execute_input": "2022-12-10T10:53:52.467809Z",
          "iopub.status.idle": "2022-12-10T10:53:52.474384Z",
          "shell.execute_reply.started": "2022-12-10T10:53:52.467751Z",
          "shell.execute_reply": "2022-12-10T10:53:52.472800Z"
        },
        "trusted": true,
        "id": "471yu5Jh3ln-",
        "outputId": "58094b12-bfb3-4fac-af95-59e1a7a2b601",
        "colab": {
          "base_uri": "https://localhost:8080/"
        }
      },
      "execution_count": null,
      "outputs": [
        {
          "output_type": "stream",
          "name": "stdout",
          "text": [
            "(180, 5)\n",
            "(180,)\n"
          ]
        }
      ]
    },
    {
      "cell_type": "code",
      "source": [
        "from sklearn.linear_model import LinearRegression\n",
        "        \n",
        "        # Örnek Model\n",
        "modelLR = LinearRegression()\n",
        "        \n",
        "        # Modeli eğitim verilerine uydurma\n",
        "modelLR.fit(X_trainL, y_trainL)\n",
        "        \n",
        "        # Test verisinde tahmin \n",
        "Y_pred = modelLR.predict(X_testL)"
      ],
      "metadata": {
        "execution": {
          "iopub.status.busy": "2022-12-10T10:53:52.726069Z",
          "iopub.execute_input": "2022-12-10T10:53:52.726512Z",
          "iopub.status.idle": "2022-12-10T10:53:52.745310Z",
          "shell.execute_reply.started": "2022-12-10T10:53:52.726462Z",
          "shell.execute_reply": "2022-12-10T10:53:52.744437Z"
        },
        "trusted": true,
        "id": "Oalfw2YA3ln_"
      },
      "execution_count": null,
      "outputs": []
    },
    {
      "cell_type": "code",
      "source": [
        "df_preds = pd.DataFrame({'Actual': y_testL, 'Predicted': Y_pred})\n",
        "print(df_preds)"
      ],
      "metadata": {
        "execution": {
          "iopub.status.busy": "2022-12-10T10:54:26.867152Z",
          "iopub.execute_input": "2022-12-10T10:54:26.868131Z",
          "iopub.status.idle": "2022-12-10T10:54:26.878272Z",
          "shell.execute_reply.started": "2022-12-10T10:54:26.868093Z",
          "shell.execute_reply": "2022-12-10T10:54:26.876810Z"
        },
        "trusted": true,
        "id": "YrJtN4y73loA",
        "outputId": "079c118a-a580-4b70-b55f-8c331edd6b3e",
        "colab": {
          "base_uri": "https://localhost:8080/"
        }
      },
      "execution_count": null,
      "outputs": [
        {
          "output_type": "stream",
          "name": "stdout",
          "text": [
            "    Actual  Predicted\n",
            "0        3   2.789988\n",
            "1        4   2.796142\n",
            "2        0   0.831762\n",
            "3        0  -2.043363\n",
            "4        0   1.702389\n",
            "5        4   2.529789\n",
            "6        4   3.454250\n",
            "7        4   2.488314\n",
            "8        0   1.549649\n",
            "9        4   3.810959\n",
            "10       1   2.006498\n",
            "11       0  -0.404118\n",
            "12       0   0.084808\n",
            "13       0   1.614746\n",
            "14       2   1.057145\n",
            "15       3   2.220014\n",
            "16       0  -1.296284\n",
            "17       0   1.638605\n",
            "18       4   2.046728\n",
            "19       0   0.834898\n"
          ]
        }
      ]
    },
    {
      "cell_type": "code",
      "source": [
        "df.head()"
      ],
      "metadata": {
        "colab": {
          "base_uri": "https://localhost:8080/",
          "height": 206
        },
        "id": "QCqnL_4wAkVB",
        "outputId": "260b32a4-10af-42eb-cf95-b692bba0b538"
      },
      "execution_count": null,
      "outputs": [
        {
          "output_type": "execute_result",
          "data": {
            "text/plain": [
              "   Age  gender  BP  Cholesterol  Na_to_K   Drug\n",
              "0   23       0   0            0   25.355  DrugY\n",
              "1   47       1   1            0   13.093  drugC\n",
              "2   47       1   1            0   10.114  drugC\n",
              "3   28       0   2            0    7.798  drugX\n",
              "4   61       0   1            0   18.043  DrugY"
            ],
            "text/html": [
              "\n",
              "  <div id=\"df-63c6c810-7429-4c9f-9063-dd572fe0ff2f\">\n",
              "    <div class=\"colab-df-container\">\n",
              "      <div>\n",
              "<style scoped>\n",
              "    .dataframe tbody tr th:only-of-type {\n",
              "        vertical-align: middle;\n",
              "    }\n",
              "\n",
              "    .dataframe tbody tr th {\n",
              "        vertical-align: top;\n",
              "    }\n",
              "\n",
              "    .dataframe thead th {\n",
              "        text-align: right;\n",
              "    }\n",
              "</style>\n",
              "<table border=\"1\" class=\"dataframe\">\n",
              "  <thead>\n",
              "    <tr style=\"text-align: right;\">\n",
              "      <th></th>\n",
              "      <th>Age</th>\n",
              "      <th>gender</th>\n",
              "      <th>BP</th>\n",
              "      <th>Cholesterol</th>\n",
              "      <th>Na_to_K</th>\n",
              "      <th>Drug</th>\n",
              "    </tr>\n",
              "  </thead>\n",
              "  <tbody>\n",
              "    <tr>\n",
              "      <th>0</th>\n",
              "      <td>23</td>\n",
              "      <td>0</td>\n",
              "      <td>0</td>\n",
              "      <td>0</td>\n",
              "      <td>25.355</td>\n",
              "      <td>DrugY</td>\n",
              "    </tr>\n",
              "    <tr>\n",
              "      <th>1</th>\n",
              "      <td>47</td>\n",
              "      <td>1</td>\n",
              "      <td>1</td>\n",
              "      <td>0</td>\n",
              "      <td>13.093</td>\n",
              "      <td>drugC</td>\n",
              "    </tr>\n",
              "    <tr>\n",
              "      <th>2</th>\n",
              "      <td>47</td>\n",
              "      <td>1</td>\n",
              "      <td>1</td>\n",
              "      <td>0</td>\n",
              "      <td>10.114</td>\n",
              "      <td>drugC</td>\n",
              "    </tr>\n",
              "    <tr>\n",
              "      <th>3</th>\n",
              "      <td>28</td>\n",
              "      <td>0</td>\n",
              "      <td>2</td>\n",
              "      <td>0</td>\n",
              "      <td>7.798</td>\n",
              "      <td>drugX</td>\n",
              "    </tr>\n",
              "    <tr>\n",
              "      <th>4</th>\n",
              "      <td>61</td>\n",
              "      <td>0</td>\n",
              "      <td>1</td>\n",
              "      <td>0</td>\n",
              "      <td>18.043</td>\n",
              "      <td>DrugY</td>\n",
              "    </tr>\n",
              "  </tbody>\n",
              "</table>\n",
              "</div>\n",
              "      <button class=\"colab-df-convert\" onclick=\"convertToInteractive('df-63c6c810-7429-4c9f-9063-dd572fe0ff2f')\"\n",
              "              title=\"Convert this dataframe to an interactive table.\"\n",
              "              style=\"display:none;\">\n",
              "        \n",
              "  <svg xmlns=\"http://www.w3.org/2000/svg\" height=\"24px\"viewBox=\"0 0 24 24\"\n",
              "       width=\"24px\">\n",
              "    <path d=\"M0 0h24v24H0V0z\" fill=\"none\"/>\n",
              "    <path d=\"M18.56 5.44l.94 2.06.94-2.06 2.06-.94-2.06-.94-.94-2.06-.94 2.06-2.06.94zm-11 1L8.5 8.5l.94-2.06 2.06-.94-2.06-.94L8.5 2.5l-.94 2.06-2.06.94zm10 10l.94 2.06.94-2.06 2.06-.94-2.06-.94-.94-2.06-.94 2.06-2.06.94z\"/><path d=\"M17.41 7.96l-1.37-1.37c-.4-.4-.92-.59-1.43-.59-.52 0-1.04.2-1.43.59L10.3 9.45l-7.72 7.72c-.78.78-.78 2.05 0 2.83L4 21.41c.39.39.9.59 1.41.59.51 0 1.02-.2 1.41-.59l7.78-7.78 2.81-2.81c.8-.78.8-2.07 0-2.86zM5.41 20L4 18.59l7.72-7.72 1.47 1.35L5.41 20z\"/>\n",
              "  </svg>\n",
              "      </button>\n",
              "      \n",
              "  <style>\n",
              "    .colab-df-container {\n",
              "      display:flex;\n",
              "      flex-wrap:wrap;\n",
              "      gap: 12px;\n",
              "    }\n",
              "\n",
              "    .colab-df-convert {\n",
              "      background-color: #E8F0FE;\n",
              "      border: none;\n",
              "      border-radius: 50%;\n",
              "      cursor: pointer;\n",
              "      display: none;\n",
              "      fill: #1967D2;\n",
              "      height: 32px;\n",
              "      padding: 0 0 0 0;\n",
              "      width: 32px;\n",
              "    }\n",
              "\n",
              "    .colab-df-convert:hover {\n",
              "      background-color: #E2EBFA;\n",
              "      box-shadow: 0px 1px 2px rgba(60, 64, 67, 0.3), 0px 1px 3px 1px rgba(60, 64, 67, 0.15);\n",
              "      fill: #174EA6;\n",
              "    }\n",
              "\n",
              "    [theme=dark] .colab-df-convert {\n",
              "      background-color: #3B4455;\n",
              "      fill: #D2E3FC;\n",
              "    }\n",
              "\n",
              "    [theme=dark] .colab-df-convert:hover {\n",
              "      background-color: #434B5C;\n",
              "      box-shadow: 0px 1px 3px 1px rgba(0, 0, 0, 0.15);\n",
              "      filter: drop-shadow(0px 1px 2px rgba(0, 0, 0, 0.3));\n",
              "      fill: #FFFFFF;\n",
              "    }\n",
              "  </style>\n",
              "\n",
              "      <script>\n",
              "        const buttonEl =\n",
              "          document.querySelector('#df-63c6c810-7429-4c9f-9063-dd572fe0ff2f button.colab-df-convert');\n",
              "        buttonEl.style.display =\n",
              "          google.colab.kernel.accessAllowed ? 'block' : 'none';\n",
              "\n",
              "        async function convertToInteractive(key) {\n",
              "          const element = document.querySelector('#df-63c6c810-7429-4c9f-9063-dd572fe0ff2f');\n",
              "          const dataTable =\n",
              "            await google.colab.kernel.invokeFunction('convertToInteractive',\n",
              "                                                     [key], {});\n",
              "          if (!dataTable) return;\n",
              "\n",
              "          const docLinkHtml = 'Like what you see? Visit the ' +\n",
              "            '<a target=\"_blank\" href=https://colab.research.google.com/notebooks/data_table.ipynb>data table notebook</a>'\n",
              "            + ' to learn more about interactive tables.';\n",
              "          element.innerHTML = '';\n",
              "          dataTable['output_type'] = 'display_data';\n",
              "          await google.colab.output.renderOutput(dataTable, element);\n",
              "          const docLink = document.createElement('div');\n",
              "          docLink.innerHTML = docLinkHtml;\n",
              "          element.appendChild(docLink);\n",
              "        }\n",
              "      </script>\n",
              "    </div>\n",
              "  </div>\n",
              "  "
            ]
          },
          "metadata": {},
          "execution_count": 29
        }
      ]
    },
    {
      "cell_type": "code",
      "source": [
        "from sklearn import metrics\n",
        "        #𝑥₁ ve 𝑥₂ olmak üzere iki bağımsız değişken varsa, regresyon fonksiyonu 𝑓(𝑥₁, 𝑥₂) = 𝑏₀ + 𝑏₁𝑥₁ + 𝑏₂𝑥₂.\\n\",\n",
        "        #𝑓(𝑥₁, 𝑥₂) = 𝑏₀ + b1x1 + b2x2 + b3x3 + b4x4 + b5x5 \n",
        "        #5 tane temel bağımsız değişkenden oluşmaktadır bunlar (age,gender,cholesterol,Na_to_k,BP)\n",
        "print('y-intercept             :' , modelLR.intercept_) #b0\\n\",\n",
        "print('beta coefficients       :' , modelLR.coef_) #b1, b2,...\\n\",\n",
        "print('Mean Abs Error MAE      :' ,metrics.mean_absolute_error(y_testL,Y_pred))\n",
        "print('Mean Sqrt Error MSE     :' ,metrics.mean_squared_error(y_testL,Y_pred))\n",
        "print('Root Mean Sqrt Error RMSE:' ,np.sqrt(metrics.mean_squared_error(y_testL,Y_pred)))\n",
        "\n",
        "\n"
      ],
      "metadata": {
        "colab": {
          "base_uri": "https://localhost:8080/"
        },
        "id": "GJ_UMmYV8BRZ",
        "outputId": "670410a5-b76f-4342-84ab-8feecb884486"
      },
      "execution_count": null,
      "outputs": [
        {
          "output_type": "stream",
          "name": "stdout",
          "text": [
            "y-intercept             : 3.328216938528489\n",
            "beta coefficients       : [ 4.72538417e-04 -1.43620808e-01  7.23636156e-01  2.76488619e-01\n",
            " -1.54715301e-01]\n",
            "Mean Abs Error MAE      : 1.090689515804878\n",
            "Mean Sqrt Error MSE     : 1.5303190339324015\n",
            "Root Mean Sqrt Error RMSE: 1.2370606427869255\n"
          ]
        }
      ]
    },
    {
      "cell_type": "markdown",
      "source": [
        "doğrusal regresyonun amacı ,tüm veri noktalarının tahmin hatasını en aza indiren bir çizgi bulmaktır \n",
        "* regresyon analizinde modelin performansını değerlendirmek için \n",
        "1. ortalama karesel hata \n",
        "2.  ortalama mutlak hata \n",
        "3. kök ortalama karesel hata \n",
        "\n",
        "\n",
        "belirleme katsayısı metrikleri kullanılır\n",
        "\n",
        "**MAE (Means absolute error) ortalama mutlak hata**\n",
        "\n",
        "\n",
        "veri kümesindeki gerçek ve tahmin edilen mutlak farkın ortalamasını temsil eder. veri setindeki artıkların ortalamasını ölçer\n",
        "\n",
        "\n",
        "**MSE (Mean squared Error) ortalama karesel hata**\n",
        "\n",
        "veri setindeki orjinal ve tahmin edilen değerler arasındaki farkın karesinin ortalamasını temsil eder kalıntıların varyansını ölçer\n",
        "\n",
        "**RMSE (Root mean Squared Error) kök ortalama kare hatası**\n",
        "\n",
        "ortalama kare hatasının kareköküdür. kalıntıların standart sapmasını ölçer\n",
        "\n",
        "\n"
      ],
      "metadata": {
        "id": "8lliviScmZoU"
      }
    },
    {
      "cell_type": "markdown",
      "source": [
        " **60-40**\n",
        "1. y-intercept             : 3.3436928946569626\n",
        "2. beta coefficients       : [ 0.00246981 -0.0510324   0.82657897  0.2402869  -0.17043411]\n",
        "3. Mean Abs Error MAE      : 1.0690283910531497\n",
        "4. Mean Sqrt Error MSE     : 1.6540644404165579\n",
        "5. Root Mean Sqrt Error RMSE: 1.2861043660669838\n",
        "\n",
        "**70-30**\n",
        "\n",
        "1. y-intercept             : 3.150162387182345\n",
        "2. beta coefficients       : [ 0.00562831 -0.22593053  0.80032138  0.26717183 -0.15812123]\n",
        "3. Mean Abs Error MAE      : 1.0521109443361558\n",
        "4. Mean Sqrt Error MSE     : 1.5808576488591857\n",
        "5. Root Mean Sqrt Error RMSE: 1.2573216171128156\n",
        "\n",
        "**80-20**\n",
        "\n",
        "1. y-intercept             : 3.278140061854006\n",
        "2. beta coefficients       : [ 0.00212077 -0.22286634  0.72925156  0.23848894 -0.15160124]\n",
        "3. Mean Abs Error MAE      : 1.0503518344662983\n",
        "4. Mean Sqrt Error MSE     : 1.489931280286363\n",
        "5. Root Mean Sqrt Error RMSE: 1.2206274125573138\n",
        "\n",
        "**90-10**\n",
        "\n",
        "1. y-intercept             : 3.328216938528489\n",
        "2. beta coefficients       : [ 4.72538417e-04 -1.43620808e-01  7.23636156e-01  2.76488619e-01\n",
        " -1.54715301e-01]\n",
        "3. Mean Abs Error MAE      : 1.090689515804878\n",
        "4. Mean Sqrt Error MSE     : 1.5303190339324015\n",
        "5. Root Mean Sqrt Error RMSE: 1.2370606427869255"
      ],
      "metadata": {
        "id": "ze9Yy8vc8qpG"
      }
    },
    {
      "cell_type": "markdown",
      "source": [
        "-------------------------------------------------------------------------------------------------------------"
      ],
      "metadata": {
        "id": "mXqflcyHC3Wj"
      }
    },
    {
      "cell_type": "markdown",
      "source": [
        "**3.2 K-En Yakın Komşuluk (K-NN)**\n",
        "\n",
        "K en yakın komşuluk yöntemi, test örneklerini k komşusunun çoğunluk oyu ile sınıflandıran basit bir algoritmadır.\n",
        "\n",
        "**K parametresinin seçimi:** Az sayıda komşu olması durumunda, gürültünün sonuç üzerinde daha büyük bir etkisi olacaktır ve çok sayıda komşu, onu hesaplama açısından pahalı hale getirir.\n",
        "\n",
        "Genel olarak, Veri bilimcileri sınıf sayısı çift ise tek sayı olarak seçerler. Modeli farklı k değerleri üzerinde oluşturarak da kontrol edebilir ve performanslarını kontrol edebilirsiniz.\n"
      ],
      "metadata": {
        "id": "PYwwlq7cBYPN"
      }
    },
    {
      "cell_type": "markdown",
      "source": [
        "\n",
        "\n",
        "*   5 için doğruluk değeri : 0,65\n",
        "*   7 için doğruluk değeri : 0,65\n",
        "*   9 için doğruluk değeri : 0,68\n",
        "\n",
        "\n",
        "\n"
      ],
      "metadata": {
        "id": "ycPSbJtDCK0g"
      }
    },
    {
      "cell_type": "code",
      "source": [
        "from sklearn.neighbors import KNeighborsClassifier\n",
        "Model = KNeighborsClassifier(n_neighbors=3)\n",
        "Model.fit(X_train, y_train)\n",
        "y_pred = Model.predict(X_test)\n",
        "\n",
        "#kullanmış olduğumuz modelin kalitesini ölmek için kullandığımız ölçüm metrikleri \n",
        "print(classification_report(y_test, y_pred))#kullanmış olduğumuz modelin kalitesini ölmek için kullandığımız ölçüm metrikleri \n",
        "print(confusion_matrix(y_test, y_pred))  # confusion matrix değeri verir (örnek: 39 drug y den 2 tanesi false olmuş )\n",
        "print('doğruluk',accuracy_score(y_pred,y_test))#Doğru tahminlerin yüzdesi \n",
        "\n"
      ],
      "metadata": {
        "execution": {
          "iopub.status.busy": "2022-12-10T10:55:13.102612Z",
          "iopub.execute_input": "2022-12-10T10:55:13.103060Z",
          "iopub.status.idle": "2022-12-10T10:55:13.177775Z",
          "shell.execute_reply.started": "2022-12-10T10:55:13.103024Z",
          "shell.execute_reply": "2022-12-10T10:55:13.176575Z"
        },
        "trusted": true,
        "id": "xtvZjANl3loA",
        "outputId": "f4991c17-bbeb-45d4-abc9-29996f1d4274",
        "colab": {
          "base_uri": "https://localhost:8080/"
        }
      },
      "execution_count": null,
      "outputs": [
        {
          "output_type": "stream",
          "name": "stdout",
          "text": [
            "              precision    recall  f1-score   support\n",
            "\n",
            "       DrugY       0.93      0.95      0.94        39\n",
            "       drugA       0.46      0.75      0.57         8\n",
            "       drugB       0.36      1.00      0.53         4\n",
            "       drugC       0.00      0.00      0.00         4\n",
            "       drugX       0.71      0.40      0.51        25\n",
            "\n",
            "    accuracy                           0.71        80\n",
            "   macro avg       0.49      0.62      0.51        80\n",
            "weighted avg       0.74      0.71      0.70        80\n",
            "\n",
            "[[37  0  2  0  0]\n",
            " [ 0  6  0  1  1]\n",
            " [ 0  0  4  0  0]\n",
            " [ 0  1  0  0  3]\n",
            " [ 3  6  5  1 10]]\n",
            "doğruluk 0.7125\n"
          ]
        }
      ]
    },
    {
      "cell_type": "markdown",
      "source": [
        "1. **precision**\n",
        "2. **recall**\n",
        "3. **f1-score** \n",
        "*  tanımları aşağıda açıklanmıştır \n",
        "\n",
        "\n",
        "\n",
        "\n"
      ],
      "metadata": {
        "id": "lRiEFsugamOg"
      }
    },
    {
      "cell_type": "code",
      "source": [
        "#Kesinlik – Tahminlerinizin yüzde kaçı doğru çıktı?\n",
        "\n",
        "#Kesinlik, bir sınıflandırıcının, aslında negatif olan bir örneği pozitif olarak etiketlememe yeteneğidir. \n",
        "#Her sınıf için, gerçek pozitiflerin doğru ve yanlış pozitiflerin toplamına oranı olarak tanımlanır.\n",
        "\n",
        "#TP – Gerçek Pozitifler \n",
        "#FP – Yanlış Pozitifler \n",
        "\n",
        " #Kesinlik – Pozitif tahminlerin doğruluğu. \n",
        "  #Kesinlik = TP/(TP + FP) \n",
        "from sklearn.metrics import precision_score\n",
        "\n",
        "print(\"Precision score: {}\".format(precision_score(y_test,y_pred,average=None)))"
      ],
      "metadata": {
        "colab": {
          "base_uri": "https://localhost:8080/"
        },
        "id": "daXsSqZR7M3B",
        "outputId": "29972ed8-c1fa-4c63-ee86-d05b0247605d"
      },
      "execution_count": null,
      "outputs": [
        {
          "output_type": "stream",
          "name": "stdout",
          "text": [
            "Precision score: [0.925      0.46153846 0.36363636 0.         0.71428571]\n"
          ]
        }
      ]
    },
    {
      "cell_type": "code",
      "source": [
        "#Toplam gerçek pozitiflere göre pozitif tahminleri düzeltin\n",
        "\n",
        "#Bu şu şekilde hesaplanır:\n",
        "\n",
        " #   Hatırlama = Gerçek Pozitifler / (Gerçek Pozitifler + Yanlış Negatifler)\n",
        "\n",
        "#oluşturabiliriz Kesinliği görselleştirmek ve belirli bir modeli geri çağırmak için bir kesinlik-geri çağırma eğrisi .\n",
        "# Bu eğri, farklı eşikler için kesinlik ve geri çağırma arasındaki değiş tokuşu gösterir. \n",
        "from sklearn.metrics import recall_score\n",
        "\n",
        "print(\"Recall score: {}\".format(recall_score(y_test,y_pred,average=None)))"
      ],
      "metadata": {
        "colab": {
          "base_uri": "https://localhost:8080/"
        },
        "id": "cDImJBGI_Dph",
        "outputId": "3dc36237-ae41-434a-ba94-cb8472eb3086"
      },
      "execution_count": null,
      "outputs": [
        {
          "output_type": "stream",
          "name": "stdout",
          "text": [
            "Recall score: [0.94871795 0.75       1.         0.         0.4       ]\n"
          ]
        }
      ]
    },
    {
      "cell_type": "code",
      "source": [
        "#F1 puanı – Olumlu tahminlerin yüzde kaçı doğru çıktı? \n",
        "\n",
        "#F  1  puanı, hassaslığın ağırlıklı harmonik ortalamasıdır ve en iyi puan 1,0 ve en kötü puan 0,0 olacak şekilde hatırlayın. \n",
        "#  Genel olarak konuşursak, F  1  puanları, kesinliği ve hatırlamayı hesaplamalarına dahil ettikleri için doğruluk ölçütlerinden daha düşüktür.  \n",
        "# Pratik bir kural olarak, sınıflandırıcı modellerini karşılaştırmak için genel doğruluk yerine F  1'in  ağırlıklı ortalaması kullanılmalıdır. \n",
        "\n",
        "#F1 Puanı = 2*(Geri Çağırma * Kesinlik) / (Geri Çağırma + Kesinlik) \n",
        "from sklearn.metrics import f1_score\n",
        "\n",
        "print(\"F1 Score: {}\".format(f1_score(y_test,y_pred,average=None)))"
      ],
      "metadata": {
        "colab": {
          "base_uri": "https://localhost:8080/"
        },
        "id": "v57RPIJ7BG6W",
        "outputId": "6fff9279-5b63-46a7-805d-a2f3905379c0"
      },
      "execution_count": null,
      "outputs": [
        {
          "output_type": "stream",
          "name": "stdout",
          "text": [
            "F1 Score: [0.93670886 0.57142857 0.53333333 0.         0.51282051]\n"
          ]
        }
      ]
    },
    {
      "cell_type": "markdown",
      "source": [
        "**Decision Tree**"
      ],
      "metadata": {
        "id": "WDGBdZGmC9H9"
      }
    },
    {
      "cell_type": "markdown",
      "source": [
        "**Decision tree (karar ağacı)**\n",
        "Karar ağacı algoritması, veri madenciliği sınıflandırma algoritmalarından biridir. Önceden tanımlanmış bir hedef değişkene sahiplerdir. Yapıları itibariyle en tepeden en aşağı inen bir strateji sunmaktadırlar \n",
        "Bir karar ağacı, çok sayıda kayıt içeren bir veri kümesini, bir dizi karar kuralları uygulayarak daha küçük kümelere bölmek için kullanılan bir yapıdır. Yani basit karar verme adımları uygulanarak, büyük miktarlardaki kayıtları, çok küçük kayıt gruplarına bölerek kullanılan bir yapıdır."
      ],
      "metadata": {
        "id": "QMBeovXlofDb"
      }
    },
    {
      "cell_type": "markdown",
      "source": [
        "**Karar Ağacı Performansını Optimize Etme**\n",
        "\n",
        "**criterion:** isteğe bağlı (default=”gini”) veya Nitelik seçim ölçüsü seç : Bu parametre, farklı-farklı nitelik seçim ölçüsünü kullanmamızı sağlar. Desteklenen kriterler, Gini indeksi için \"gini\" ve bilgi kazanımı için \"entropi\" dir.\n",
        "\n",
        "*Model = DecisionTreeClassifier(criterion=\"entropy\")*\n",
        "\n",
        "**max_depth:** int veya None, isteğe bağlı (default=None) veya Maksimum Ağaç Derinliği : Ağacın maksimum derinliği. None ise, tüm yapraklar min_samples_split örneklerinden daha azını içerene kadar düğümler genişletilir. Maksimum derinliğin daha yüksek değeri fazla uydurmaya (overfitting), daha düşük bir değer ise yetersiz uydurmaya (underfitting) neden olur .\n",
        "\n",
        "*Model = DecisionTreeClassifier(criterion=\"entropy\",max_depth=3)*\n",
        "\n"
      ],
      "metadata": {
        "id": "8_1JQvOPDUJa"
      }
    },
    {
      "cell_type": "markdown",
      "source": [
        "* 2 için doğruluk değeri : 0,8875\n",
        "* 3 için doğruluk değeri : 0,86,25\n",
        "* 4 için doğruluk değeri : 0,9875\n",
        "* 5 için doğruluk değeri : 0,9875\n",
        "* 6 için doğruluk değeri : 0,9875"
      ],
      "metadata": {
        "id": "RYSlj3vaEo9C"
      }
    },
    {
      "cell_type": "code",
      "source": [
        "# Decision Tree's\n",
        "from sklearn.tree import DecisionTreeClassifier #karar ağacı kütüphanesi import edildi \n",
        "from sklearn import tree\n",
        "        \n",
        "Model = DecisionTreeClassifier(max_depth=6) # optimal derinlik verildi \n",
        "        \n",
        "Model.fit(X_train, y_train) #model eğitildi \n",
        "        \n",
        "y_pred = Model.predict(X_test)\n",
        "        \n",
        "tree.plot_tree(Model)\n",
        "        \n",
        "print(classification_report(y_test, y_pred))\n",
        "print(confusion_matrix(y_test, y_pred))\n",
        "        \n",
        "        # Doğruluk skoru\n",
        "print('doğruluk',accuracy_score(y_pred,y_test))\n",
        "\n",
        "\n"
      ],
      "metadata": {
        "execution": {
          "iopub.status.busy": "2022-12-10T10:56:27.456021Z",
          "iopub.execute_input": "2022-12-10T10:56:27.456721Z",
          "iopub.status.idle": "2022-12-10T10:56:27.930428Z",
          "shell.execute_reply.started": "2022-12-10T10:56:27.456684Z",
          "shell.execute_reply": "2022-12-10T10:56:27.929113Z"
        },
        "trusted": true,
        "id": "wrbuuzjC3loB",
        "outputId": "a76701b8-4e1c-4217-a78e-b4edf1aa2e14",
        "colab": {
          "base_uri": "https://localhost:8080/",
          "height": 561
        }
      },
      "execution_count": null,
      "outputs": [
        {
          "output_type": "stream",
          "name": "stdout",
          "text": [
            "              precision    recall  f1-score   support\n",
            "\n",
            "       DrugY       0.97      1.00      0.99        39\n",
            "       drugA       1.00      1.00      1.00         8\n",
            "       drugB       1.00      1.00      1.00         4\n",
            "       drugC       1.00      1.00      1.00         4\n",
            "       drugX       1.00      0.96      0.98        25\n",
            "\n",
            "    accuracy                           0.99        80\n",
            "   macro avg       0.99      0.99      0.99        80\n",
            "weighted avg       0.99      0.99      0.99        80\n",
            "\n",
            "[[39  0  0  0  0]\n",
            " [ 0  8  0  0  0]\n",
            " [ 0  0  4  0  0]\n",
            " [ 0  0  0  4  0]\n",
            " [ 1  0  0  0 24]]\n",
            "doğruluk 0.9875\n"
          ]
        },
        {
          "output_type": "display_data",
          "data": {
            "text/plain": [
              "<Figure size 432x288 with 1 Axes>"
            ],
            "image/png": "[encoded data removed]"
          },
          "metadata": {
            "needs_background": "light"
          }
        }
      ]
    },
    {
      "cell_type": "code",
      "source": [
        "from sklearn.tree import export_graphviz\n",
        "from six import StringIO  \n",
        "from IPython.display import Image  \n",
        "import pydotplus\n",
        "\n",
        "dot_data = StringIO()\n",
        "export_graphviz(Model, out_file=dot_data,  \n",
        "                filled=True, rounded=True,\n",
        "                special_characters=True,feature_names =['Age', 'gender', 'BP', 'Cholesterol', 'Na_to_K'],class_names=['DrugY', 'drugC', 'drugX', 'drugA', 'drugB'])\n",
        "graph = pydotplus.graph_from_dot_data(dot_data.getvalue())  \n",
        "graph.write_png('Drug.png')\n",
        "Image(graph.create_png())\n",
        "#gini değeri derste verilen karar ağaçlarını sunumuna bakmalısın "
      ],
      "metadata": {
        "colab": {
          "base_uri": "https://localhost:8080/",
          "height": 753
        },
        "id": "Jw14z0_Tc3Fd",
        "outputId": "e9744460-fc17-408e-8e2a-5a715c0cf4e5"
      },
      "execution_count": null,
      "outputs": [
        {
          "output_type": "execute_result",
          "data": {
            "image/png": "[encoded data removed]",
            "text/plain": [
              "<IPython.core.display.Image object>"
            ]
          },
          "metadata": {},
          "execution_count": 36
        }
      ]
    },
    {
      "cell_type": "markdown",
      "source": [
        "**karar ağacı yorumlanması**\n",
        "\n",
        "yukarıda görseli verilen graf da kök değerimizi Na_to_K sütunu oluşturmaktadır Na_to_K değerini root(kök) olarak seçmemizin nedeni veri kümemizi uygun koşullara göre küçük alt veri gruplarına bölme yeteneğidir. bölme yeteneğini ölçmemize yarayan hesaplama formüllerimiz yer almaktadır bunlar gini değeri, entropy ve gain ratio  olarak karşımıza çıkmaktadır entropy ve gini değerlerinin hesaplamaları birbirine benzerlik göstermektedir.\n",
        "\n",
        "bu ölçüm değerlerinden en yüksek olan root olarak ağacı başlatır ve derecelerine göre ağacın dalları şekillenmeye devam eder \n",
        "\n"
      ],
      "metadata": {
        "id": "bInKhwMcqbpW"
      }
    },
    {
      "cell_type": "code",
      "source": [
        "df_preds=pd.DataFrame({'Gercek': y_test, 'Tahmin':y_pred})\n",
        "df_preds"
      ],
      "metadata": {
        "colab": {
          "base_uri": "https://localhost:8080/",
          "height": 424
        },
        "id": "afYA-stZDl2D",
        "outputId": "ed68469a-7548-45e8-c149-ab5e5b23eab7"
      },
      "execution_count": null,
      "outputs": [
        {
          "output_type": "execute_result",
          "data": {
            "text/plain": [
              "   Gercek Tahmin\n",
              "0   drugC  drugC\n",
              "1   drugX  drugX\n",
              "2   DrugY  DrugY\n",
              "3   DrugY  DrugY\n",
              "4   DrugY  DrugY\n",
              "..    ...    ...\n",
              "75  DrugY  DrugY\n",
              "76  DrugY  DrugY\n",
              "77  drugX  drugX\n",
              "78  drugX  drugX\n",
              "79  DrugY  DrugY\n",
              "\n",
              "[80 rows x 2 columns]"
            ],
            "text/html": [
              "\n",
              "  <div id=\"df-52b8f3f3-43cb-4671-895e-55880e47d72f\">\n",
              "    <div class=\"colab-df-container\">\n",
              "      <div>\n",
              "<style scoped>\n",
              "    .dataframe tbody tr th:only-of-type {\n",
              "        vertical-align: middle;\n",
              "    }\n",
              "\n",
              "    .dataframe tbody tr th {\n",
              "        vertical-align: top;\n",
              "    }\n",
              "\n",
              "    .dataframe thead th {\n",
              "        text-align: right;\n",
              "    }\n",
              "</style>\n",
              "<table border=\"1\" class=\"dataframe\">\n",
              "  <thead>\n",
              "    <tr style=\"text-align: right;\">\n",
              "      <th></th>\n",
              "      <th>Gercek</th>\n",
              "      <th>Tahmin</th>\n",
              "    </tr>\n",
              "  </thead>\n",
              "  <tbody>\n",
              "    <tr>\n",
              "      <th>0</th>\n",
              "      <td>drugC</td>\n",
              "      <td>drugC</td>\n",
              "    </tr>\n",
              "    <tr>\n",
              "      <th>1</th>\n",
              "      <td>drugX</td>\n",
              "      <td>drugX</td>\n",
              "    </tr>\n",
              "    <tr>\n",
              "      <th>2</th>\n",
              "      <td>DrugY</td>\n",
              "      <td>DrugY</td>\n",
              "    </tr>\n",
              "    <tr>\n",
              "      <th>3</th>\n",
              "      <td>DrugY</td>\n",
              "      <td>DrugY</td>\n",
              "    </tr>\n",
              "    <tr>\n",
              "      <th>4</th>\n",
              "      <td>DrugY</td>\n",
              "      <td>DrugY</td>\n",
              "    </tr>\n",
              "    <tr>\n",
              "      <th>...</th>\n",
              "      <td>...</td>\n",
              "      <td>...</td>\n",
              "    </tr>\n",
              "    <tr>\n",
              "      <th>75</th>\n",
              "      <td>DrugY</td>\n",
              "      <td>DrugY</td>\n",
              "    </tr>\n",
              "    <tr>\n",
              "      <th>76</th>\n",
              "      <td>DrugY</td>\n",
              "      <td>DrugY</td>\n",
              "    </tr>\n",
              "    <tr>\n",
              "      <th>77</th>\n",
              "      <td>drugX</td>\n",
              "      <td>drugX</td>\n",
              "    </tr>\n",
              "    <tr>\n",
              "      <th>78</th>\n",
              "      <td>drugX</td>\n",
              "      <td>drugX</td>\n",
              "    </tr>\n",
              "    <tr>\n",
              "      <th>79</th>\n",
              "      <td>DrugY</td>\n",
              "      <td>DrugY</td>\n",
              "    </tr>\n",
              "  </tbody>\n",
              "</table>\n",
              "<p>80 rows × 2 columns</p>\n",
              "</div>\n",
              "      <button class=\"colab-df-convert\" onclick=\"convertToInteractive('df-52b8f3f3-43cb-4671-895e-55880e47d72f')\"\n",
              "              title=\"Convert this dataframe to an interactive table.\"\n",
              "              style=\"display:none;\">\n",
              "        \n",
              "  <svg xmlns=\"http://www.w3.org/2000/svg\" height=\"24px\"viewBox=\"0 0 24 24\"\n",
              "       width=\"24px\">\n",
              "    <path d=\"M0 0h24v24H0V0z\" fill=\"none\"/>\n",
              "    <path d=\"M18.56 5.44l.94 2.06.94-2.06 2.06-.94-2.06-.94-.94-2.06-.94 2.06-2.06.94zm-11 1L8.5 8.5l.94-2.06 2.06-.94-2.06-.94L8.5 2.5l-.94 2.06-2.06.94zm10 10l.94 2.06.94-2.06 2.06-.94-2.06-.94-.94-2.06-.94 2.06-2.06.94z\"/><path d=\"M17.41 7.96l-1.37-1.37c-.4-.4-.92-.59-1.43-.59-.52 0-1.04.2-1.43.59L10.3 9.45l-7.72 7.72c-.78.78-.78 2.05 0 2.83L4 21.41c.39.39.9.59 1.41.59.51 0 1.02-.2 1.41-.59l7.78-7.78 2.81-2.81c.8-.78.8-2.07 0-2.86zM5.41 20L4 18.59l7.72-7.72 1.47 1.35L5.41 20z\"/>\n",
              "  </svg>\n",
              "      </button>\n",
              "      \n",
              "  <style>\n",
              "    .colab-df-container {\n",
              "      display:flex;\n",
              "      flex-wrap:wrap;\n",
              "      gap: 12px;\n",
              "    }\n",
              "\n",
              "    .colab-df-convert {\n",
              "      background-color: #E8F0FE;\n",
              "      border: none;\n",
              "      border-radius: 50%;\n",
              "      cursor: pointer;\n",
              "      display: none;\n",
              "      fill: #1967D2;\n",
              "      height: 32px;\n",
              "      padding: 0 0 0 0;\n",
              "      width: 32px;\n",
              "    }\n",
              "\n",
              "    .colab-df-convert:hover {\n",
              "      background-color: #E2EBFA;\n",
              "      box-shadow: 0px 1px 2px rgba(60, 64, 67, 0.3), 0px 1px 3px 1px rgba(60, 64, 67, 0.15);\n",
              "      fill: #174EA6;\n",
              "    }\n",
              "\n",
              "    [theme=dark] .colab-df-convert {\n",
              "      background-color: #3B4455;\n",
              "      fill: #D2E3FC;\n",
              "    }\n",
              "\n",
              "    [theme=dark] .colab-df-convert:hover {\n",
              "      background-color: #434B5C;\n",
              "      box-shadow: 0px 1px 3px 1px rgba(0, 0, 0, 0.15);\n",
              "      filter: drop-shadow(0px 1px 2px rgba(0, 0, 0, 0.3));\n",
              "      fill: #FFFFFF;\n",
              "    }\n",
              "  </style>\n",
              "\n",
              "      <script>\n",
              "        const buttonEl =\n",
              "          document.querySelector('#df-52b8f3f3-43cb-4671-895e-55880e47d72f button.colab-df-convert');\n",
              "        buttonEl.style.display =\n",
              "          google.colab.kernel.accessAllowed ? 'block' : 'none';\n",
              "\n",
              "        async function convertToInteractive(key) {\n",
              "          const element = document.querySelector('#df-52b8f3f3-43cb-4671-895e-55880e47d72f');\n",
              "          const dataTable =\n",
              "            await google.colab.kernel.invokeFunction('convertToInteractive',\n",
              "                                                     [key], {});\n",
              "          if (!dataTable) return;\n",
              "\n",
              "          const docLinkHtml = 'Like what you see? Visit the ' +\n",
              "            '<a target=\"_blank\" href=https://colab.research.google.com/notebooks/data_table.ipynb>data table notebook</a>'\n",
              "            + ' to learn more about interactive tables.';\n",
              "          element.innerHTML = '';\n",
              "          dataTable['output_type'] = 'display_data';\n",
              "          await google.colab.output.renderOutput(dataTable, element);\n",
              "          const docLink = document.createElement('div');\n",
              "          docLink.innerHTML = docLinkHtml;\n",
              "          element.appendChild(docLink);\n",
              "        }\n",
              "      </script>\n",
              "    </div>\n",
              "  </div>\n",
              "  "
            ]
          },
          "metadata": {},
          "execution_count": 37
        }
      ]
    },
    {
      "cell_type": "markdown",
      "source": [
        "**Naive Bayes Classifier**\n",
        "\n",
        "Naive Bayes sınıflandırıcısının temeli Bayes teoremine dayanır. lazy ( tembel ) bir öğrenme algoritmasıdır aynı zamanda dengesiz veri kümelerinde de çalışabilir. Algoritmanın çalışma şekli bir eleman için her durumun olasılığını hesaplar ve olasılık değeri en yüksek olana göre sınıflandırır. Az bir eğitim verisiyle çok başarılı işler çıkartabilir."
      ],
      "metadata": {
        "id": "kB0bvzu6EVE4"
      }
    },
    {
      "cell_type": "code",
      "source": [
        "from sklearn.naive_bayes import GaussianNB\n",
        "Model = GaussianNB()\n",
        "Model.fit(X_train, y_train)\n",
        "            \n",
        "y_pred = Model.predict(X_test)\n",
        "            \n",
        "print(classification_report(y_test, y_pred))\n",
        "print(confusion_matrix(y_test, y_pred))\n",
        "            # Doğruluk skoru\n",
        "print('doğruluk',accuracy_score(y_pred,y_test))"
      ],
      "metadata": {
        "execution": {
          "iopub.status.busy": "2022-12-10T10:56:21.980660Z",
          "iopub.execute_input": "2022-12-10T10:56:21.981800Z",
          "iopub.status.idle": "2022-12-10T10:56:22.001747Z",
          "shell.execute_reply.started": "2022-12-10T10:56:21.981746Z",
          "shell.execute_reply": "2022-12-10T10:56:22.000571Z"
        },
        "trusted": true,
        "id": "7kyfA0YT3loB",
        "outputId": "5c6d05ea-ca56-4058-976a-cdc572030f75",
        "colab": {
          "base_uri": "https://localhost:8080/"
        }
      },
      "execution_count": null,
      "outputs": [
        {
          "output_type": "stream",
          "name": "stdout",
          "text": [
            "              precision    recall  f1-score   support\n",
            "\n",
            "       DrugY       0.94      0.87      0.91        39\n",
            "       drugA       0.80      1.00      0.89         8\n",
            "       drugB       0.80      1.00      0.89         4\n",
            "       drugC       0.67      1.00      0.80         4\n",
            "       drugX       1.00      0.92      0.96        25\n",
            "\n",
            "    accuracy                           0.91        80\n",
            "   macro avg       0.84      0.96      0.89        80\n",
            "weighted avg       0.93      0.91      0.91        80\n",
            "\n",
            "[[34  2  1  2  0]\n",
            " [ 0  8  0  0  0]\n",
            " [ 0  0  4  0  0]\n",
            " [ 0  0  0  4  0]\n",
            " [ 2  0  0  0 23]]\n",
            "doğruluk 0.9125\n"
          ]
        }
      ]
    },
    {
      "cell_type": "code",
      "source": [
        "df_preds=pd.DataFrame({'Gercek': y_test, 'Tahmin':y_pred})\n",
        "df_preds"
      ],
      "metadata": {
        "colab": {
          "base_uri": "https://localhost:8080/",
          "height": 424
        },
        "id": "MkLeZhdAC5gg",
        "outputId": "b3c4a303-1391-49c2-fc56-4fd7329c4520"
      },
      "execution_count": null,
      "outputs": [
        {
          "output_type": "execute_result",
          "data": {
            "text/plain": [
              "   Gercek Tahmin\n",
              "0   drugC  drugC\n",
              "1   drugX  drugX\n",
              "2   DrugY  DrugY\n",
              "3   DrugY  DrugY\n",
              "4   DrugY  DrugY\n",
              "..    ...    ...\n",
              "75  DrugY  DrugY\n",
              "76  DrugY  DrugY\n",
              "77  drugX  drugX\n",
              "78  drugX  drugX\n",
              "79  DrugY  DrugY\n",
              "\n",
              "[80 rows x 2 columns]"
            ],
            "text/html": [
              "\n",
              "  <div id=\"df-e20b78c9-0582-4ac2-ac8a-07b383952f09\">\n",
              "    <div class=\"colab-df-container\">\n",
              "      <div>\n",
              "<style scoped>\n",
              "    .dataframe tbody tr th:only-of-type {\n",
              "        vertical-align: middle;\n",
              "    }\n",
              "\n",
              "    .dataframe tbody tr th {\n",
              "        vertical-align: top;\n",
              "    }\n",
              "\n",
              "    .dataframe thead th {\n",
              "        text-align: right;\n",
              "    }\n",
              "</style>\n",
              "<table border=\"1\" class=\"dataframe\">\n",
              "  <thead>\n",
              "    <tr style=\"text-align: right;\">\n",
              "      <th></th>\n",
              "      <th>Gercek</th>\n",
              "      <th>Tahmin</th>\n",
              "    </tr>\n",
              "  </thead>\n",
              "  <tbody>\n",
              "    <tr>\n",
              "      <th>0</th>\n",
              "      <td>drugC</td>\n",
              "      <td>drugC</td>\n",
              "    </tr>\n",
              "    <tr>\n",
              "      <th>1</th>\n",
              "      <td>drugX</td>\n",
              "      <td>drugX</td>\n",
              "    </tr>\n",
              "    <tr>\n",
              "      <th>2</th>\n",
              "      <td>DrugY</td>\n",
              "      <td>DrugY</td>\n",
              "    </tr>\n",
              "    <tr>\n",
              "      <th>3</th>\n",
              "      <td>DrugY</td>\n",
              "      <td>DrugY</td>\n",
              "    </tr>\n",
              "    <tr>\n",
              "      <th>4</th>\n",
              "      <td>DrugY</td>\n",
              "      <td>DrugY</td>\n",
              "    </tr>\n",
              "    <tr>\n",
              "      <th>...</th>\n",
              "      <td>...</td>\n",
              "      <td>...</td>\n",
              "    </tr>\n",
              "    <tr>\n",
              "      <th>75</th>\n",
              "      <td>DrugY</td>\n",
              "      <td>DrugY</td>\n",
              "    </tr>\n",
              "    <tr>\n",
              "      <th>76</th>\n",
              "      <td>DrugY</td>\n",
              "      <td>DrugY</td>\n",
              "    </tr>\n",
              "    <tr>\n",
              "      <th>77</th>\n",
              "      <td>drugX</td>\n",
              "      <td>drugX</td>\n",
              "    </tr>\n",
              "    <tr>\n",
              "      <th>78</th>\n",
              "      <td>drugX</td>\n",
              "      <td>drugX</td>\n",
              "    </tr>\n",
              "    <tr>\n",
              "      <th>79</th>\n",
              "      <td>DrugY</td>\n",
              "      <td>DrugY</td>\n",
              "    </tr>\n",
              "  </tbody>\n",
              "</table>\n",
              "<p>80 rows × 2 columns</p>\n",
              "</div>\n",
              "      <button class=\"colab-df-convert\" onclick=\"convertToInteractive('df-e20b78c9-0582-4ac2-ac8a-07b383952f09')\"\n",
              "              title=\"Convert this dataframe to an interactive table.\"\n",
              "              style=\"display:none;\">\n",
              "        \n",
              "  <svg xmlns=\"http://www.w3.org/2000/svg\" height=\"24px\"viewBox=\"0 0 24 24\"\n",
              "       width=\"24px\">\n",
              "    <path d=\"M0 0h24v24H0V0z\" fill=\"none\"/>\n",
              "    <path d=\"M18.56 5.44l.94 2.06.94-2.06 2.06-.94-2.06-.94-.94-2.06-.94 2.06-2.06.94zm-11 1L8.5 8.5l.94-2.06 2.06-.94-2.06-.94L8.5 2.5l-.94 2.06-2.06.94zm10 10l.94 2.06.94-2.06 2.06-.94-2.06-.94-.94-2.06-.94 2.06-2.06.94z\"/><path d=\"M17.41 7.96l-1.37-1.37c-.4-.4-.92-.59-1.43-.59-.52 0-1.04.2-1.43.59L10.3 9.45l-7.72 7.72c-.78.78-.78 2.05 0 2.83L4 21.41c.39.39.9.59 1.41.59.51 0 1.02-.2 1.41-.59l7.78-7.78 2.81-2.81c.8-.78.8-2.07 0-2.86zM5.41 20L4 18.59l7.72-7.72 1.47 1.35L5.41 20z\"/>\n",
              "  </svg>\n",
              "      </button>\n",
              "      \n",
              "  <style>\n",
              "    .colab-df-container {\n",
              "      display:flex;\n",
              "      flex-wrap:wrap;\n",
              "      gap: 12px;\n",
              "    }\n",
              "\n",
              "    .colab-df-convert {\n",
              "      background-color: #E8F0FE;\n",
              "      border: none;\n",
              "      border-radius: 50%;\n",
              "      cursor: pointer;\n",
              "      display: none;\n",
              "      fill: #1967D2;\n",
              "      height: 32px;\n",
              "      padding: 0 0 0 0;\n",
              "      width: 32px;\n",
              "    }\n",
              "\n",
              "    .colab-df-convert:hover {\n",
              "      background-color: #E2EBFA;\n",
              "      box-shadow: 0px 1px 2px rgba(60, 64, 67, 0.3), 0px 1px 3px 1px rgba(60, 64, 67, 0.15);\n",
              "      fill: #174EA6;\n",
              "    }\n",
              "\n",
              "    [theme=dark] .colab-df-convert {\n",
              "      background-color: #3B4455;\n",
              "      fill: #D2E3FC;\n",
              "    }\n",
              "\n",
              "    [theme=dark] .colab-df-convert:hover {\n",
              "      background-color: #434B5C;\n",
              "      box-shadow: 0px 1px 3px 1px rgba(0, 0, 0, 0.15);\n",
              "      filter: drop-shadow(0px 1px 2px rgba(0, 0, 0, 0.3));\n",
              "      fill: #FFFFFF;\n",
              "    }\n",
              "  </style>\n",
              "\n",
              "      <script>\n",
              "        const buttonEl =\n",
              "          document.querySelector('#df-e20b78c9-0582-4ac2-ac8a-07b383952f09 button.colab-df-convert');\n",
              "        buttonEl.style.display =\n",
              "          google.colab.kernel.accessAllowed ? 'block' : 'none';\n",
              "\n",
              "        async function convertToInteractive(key) {\n",
              "          const element = document.querySelector('#df-e20b78c9-0582-4ac2-ac8a-07b383952f09');\n",
              "          const dataTable =\n",
              "            await google.colab.kernel.invokeFunction('convertToInteractive',\n",
              "                                                     [key], {});\n",
              "          if (!dataTable) return;\n",
              "\n",
              "          const docLinkHtml = 'Like what you see? Visit the ' +\n",
              "            '<a target=\"_blank\" href=https://colab.research.google.com/notebooks/data_table.ipynb>data table notebook</a>'\n",
              "            + ' to learn more about interactive tables.';\n",
              "          element.innerHTML = '';\n",
              "          dataTable['output_type'] = 'display_data';\n",
              "          await google.colab.output.renderOutput(dataTable, element);\n",
              "          const docLink = document.createElement('div');\n",
              "          docLink.innerHTML = docLinkHtml;\n",
              "          element.appendChild(docLink);\n",
              "        }\n",
              "      </script>\n",
              "    </div>\n",
              "  </div>\n",
              "  "
            ]
          },
          "metadata": {},
          "execution_count": 39
        }
      ]
    },
    {
      "cell_type": "markdown",
      "source": [
        "**Destek Vektör Makineleri (Support Vector Machine)**\n",
        "\n",
        " genellikle sınıflandırma problemlerinde kullanılan gözetimli öğrenme yöntemlerinden biridir. Bir düzlem üzerine yerleştirilmiş noktaları ayırmak için bir doğru çizer. Bu doğrunun, iki sınıfının noktaları için de maksimum uzaklıkta olmasını amaçlar. Karmaşık ama küçük ve orta ölçekteki veri setleri için uygundur."
      ],
      "metadata": {
        "id": "EWUL_oruEqIX"
      }
    },
    {
      "cell_type": "code",
      "source": [
        "# Support Vector Machine\n",
        "from sklearn.svm import SVC\n",
        "from sklearn import tree\n",
        "            \n",
        "Model=SVC()\n",
        "Model.fit(X_train, y_train)\n",
        "        \n",
        "y_pred = Model.predict(X_test)\n",
        "            \n",
        "print(classification_report(y_test, y_pred))\n",
        "print(confusion_matrix(y_test, y_pred))\n",
        "        # Doğruluk skoru\n",
        "        \n",
        "print('doğruluk',accuracy_score(y_pred,y_test))"
      ],
      "metadata": {
        "execution": {
          "iopub.status.busy": "2022-12-10T10:56:57.908366Z",
          "iopub.execute_input": "2022-12-10T10:56:57.908779Z",
          "iopub.status.idle": "2022-12-10T10:56:57.929237Z",
          "shell.execute_reply.started": "2022-12-10T10:56:57.908746Z",
          "shell.execute_reply": "2022-12-10T10:56:57.928163Z"
        },
        "trusted": true,
        "id": "gqqG9LX83loB",
        "outputId": "019128d6-4d3f-4257-ed37-98371aaa37d0",
        "colab": {
          "base_uri": "https://localhost:8080/"
        }
      },
      "execution_count": null,
      "outputs": [
        {
          "output_type": "stream",
          "name": "stdout",
          "text": [
            "              precision    recall  f1-score   support\n",
            "\n",
            "       DrugY       0.75      1.00      0.86        39\n",
            "       drugA       0.00      0.00      0.00         8\n",
            "       drugB       0.00      0.00      0.00         4\n",
            "       drugC       0.00      0.00      0.00         4\n",
            "       drugX       0.57      0.64      0.60        25\n",
            "\n",
            "    accuracy                           0.69        80\n",
            "   macro avg       0.26      0.33      0.29        80\n",
            "weighted avg       0.54      0.69      0.61        80\n",
            "\n",
            "[[39  0  0  0  0]\n",
            " [ 0  0  0  0  8]\n",
            " [ 3  0  0  0  1]\n",
            " [ 1  0  0  0  3]\n",
            " [ 9  0  0  0 16]]\n",
            "doğruluk 0.6875\n"
          ]
        },
        {
          "output_type": "stream",
          "name": "stderr",
          "text": [
            "/usr/local/lib/python3.8/dist-packages/sklearn/metrics/_classification.py:1318: UndefinedMetricWarning: Precision and F-score are ill-defined and being set to 0.0 in labels with no predicted samples. Use `zero_division` parameter to control this behavior.\n",
            "  _warn_prf(average, modifier, msg_start, len(result))\n",
            "/usr/local/lib/python3.8/dist-packages/sklearn/metrics/_classification.py:1318: UndefinedMetricWarning: Precision and F-score are ill-defined and being set to 0.0 in labels with no predicted samples. Use `zero_division` parameter to control this behavior.\n",
            "  _warn_prf(average, modifier, msg_start, len(result))\n",
            "/usr/local/lib/python3.8/dist-packages/sklearn/metrics/_classification.py:1318: UndefinedMetricWarning: Precision and F-score are ill-defined and being set to 0.0 in labels with no predicted samples. Use `zero_division` parameter to control this behavior.\n",
            "  _warn_prf(average, modifier, msg_start, len(result))\n"
          ]
        }
      ]
    },
    {
      "cell_type": "code",
      "source": [
        "%pip install graphviz\n",
        "%pip install pydotplus\n",
        "%pip install six"
      ],
      "metadata": {
        "colab": {
          "base_uri": "https://localhost:8080/"
        },
        "id": "10034TwkFPWb",
        "outputId": "226fa01c-cc6d-4ced-ff22-a3ad776e343f"
      },
      "execution_count": null,
      "outputs": [
        {
          "output_type": "stream",
          "name": "stdout",
          "text": [
            "Looking in indexes: https://pypi.org/simple, https://us-python.pkg.dev/colab-wheels/public/simple/\n",
            "Requirement already satisfied: graphviz in /usr/local/lib/python3.8/dist-packages (0.10.1)\n",
            "Looking in indexes: https://pypi.org/simple, https://us-python.pkg.dev/colab-wheels/public/simple/\n",
            "Requirement already satisfied: pydotplus in /usr/local/lib/python3.8/dist-packages (2.0.2)\n",
            "Requirement already satisfied: pyparsing>=2.0.1 in /usr/local/lib/python3.8/dist-packages (from pydotplus) (3.0.9)\n",
            "Looking in indexes: https://pypi.org/simple, https://us-python.pkg.dev/colab-wheels/public/simple/\n",
            "Requirement already satisfied: six in /usr/local/lib/python3.8/dist-packages (1.15.0)\n"
          ]
        }
      ]
    },
    {
      "cell_type": "code",
      "source": [
        "df.head()"
      ],
      "metadata": {
        "id": "4ukosUsEFftH",
        "colab": {
          "base_uri": "https://localhost:8080/",
          "height": 206
        },
        "outputId": "b0f4b68f-fe7a-4863-e61b-aa4739ac6f17"
      },
      "execution_count": null,
      "outputs": [
        {
          "output_type": "execute_result",
          "data": {
            "text/plain": [
              "   Age  gender  BP  Cholesterol  Na_to_K   Drug\n",
              "0   23       0   0            0   25.355  DrugY\n",
              "1   47       1   1            0   13.093  drugC\n",
              "2   47       1   1            0   10.114  drugC\n",
              "3   28       0   2            0    7.798  drugX\n",
              "4   61       0   1            0   18.043  DrugY"
            ],
            "text/html": [
              "\n",
              "  <div id=\"df-fa1f8066-fc6a-45a3-9b3c-45e54bdbd2ed\">\n",
              "    <div class=\"colab-df-container\">\n",
              "      <div>\n",
              "<style scoped>\n",
              "    .dataframe tbody tr th:only-of-type {\n",
              "        vertical-align: middle;\n",
              "    }\n",
              "\n",
              "    .dataframe tbody tr th {\n",
              "        vertical-align: top;\n",
              "    }\n",
              "\n",
              "    .dataframe thead th {\n",
              "        text-align: right;\n",
              "    }\n",
              "</style>\n",
              "<table border=\"1\" class=\"dataframe\">\n",
              "  <thead>\n",
              "    <tr style=\"text-align: right;\">\n",
              "      <th></th>\n",
              "      <th>Age</th>\n",
              "      <th>gender</th>\n",
              "      <th>BP</th>\n",
              "      <th>Cholesterol</th>\n",
              "      <th>Na_to_K</th>\n",
              "      <th>Drug</th>\n",
              "    </tr>\n",
              "  </thead>\n",
              "  <tbody>\n",
              "    <tr>\n",
              "      <th>0</th>\n",
              "      <td>23</td>\n",
              "      <td>0</td>\n",
              "      <td>0</td>\n",
              "      <td>0</td>\n",
              "      <td>25.355</td>\n",
              "      <td>DrugY</td>\n",
              "    </tr>\n",
              "    <tr>\n",
              "      <th>1</th>\n",
              "      <td>47</td>\n",
              "      <td>1</td>\n",
              "      <td>1</td>\n",
              "      <td>0</td>\n",
              "      <td>13.093</td>\n",
              "      <td>drugC</td>\n",
              "    </tr>\n",
              "    <tr>\n",
              "      <th>2</th>\n",
              "      <td>47</td>\n",
              "      <td>1</td>\n",
              "      <td>1</td>\n",
              "      <td>0</td>\n",
              "      <td>10.114</td>\n",
              "      <td>drugC</td>\n",
              "    </tr>\n",
              "    <tr>\n",
              "      <th>3</th>\n",
              "      <td>28</td>\n",
              "      <td>0</td>\n",
              "      <td>2</td>\n",
              "      <td>0</td>\n",
              "      <td>7.798</td>\n",
              "      <td>drugX</td>\n",
              "    </tr>\n",
              "    <tr>\n",
              "      <th>4</th>\n",
              "      <td>61</td>\n",
              "      <td>0</td>\n",
              "      <td>1</td>\n",
              "      <td>0</td>\n",
              "      <td>18.043</td>\n",
              "      <td>DrugY</td>\n",
              "    </tr>\n",
              "  </tbody>\n",
              "</table>\n",
              "</div>\n",
              "      <button class=\"colab-df-convert\" onclick=\"convertToInteractive('df-fa1f8066-fc6a-45a3-9b3c-45e54bdbd2ed')\"\n",
              "              title=\"Convert this dataframe to an interactive table.\"\n",
              "              style=\"display:none;\">\n",
              "        \n",
              "  <svg xmlns=\"http://www.w3.org/2000/svg\" height=\"24px\"viewBox=\"0 0 24 24\"\n",
              "       width=\"24px\">\n",
              "    <path d=\"M0 0h24v24H0V0z\" fill=\"none\"/>\n",
              "    <path d=\"M18.56 5.44l.94 2.06.94-2.06 2.06-.94-2.06-.94-.94-2.06-.94 2.06-2.06.94zm-11 1L8.5 8.5l.94-2.06 2.06-.94-2.06-.94L8.5 2.5l-.94 2.06-2.06.94zm10 10l.94 2.06.94-2.06 2.06-.94-2.06-.94-.94-2.06-.94 2.06-2.06.94z\"/><path d=\"M17.41 7.96l-1.37-1.37c-.4-.4-.92-.59-1.43-.59-.52 0-1.04.2-1.43.59L10.3 9.45l-7.72 7.72c-.78.78-.78 2.05 0 2.83L4 21.41c.39.39.9.59 1.41.59.51 0 1.02-.2 1.41-.59l7.78-7.78 2.81-2.81c.8-.78.8-2.07 0-2.86zM5.41 20L4 18.59l7.72-7.72 1.47 1.35L5.41 20z\"/>\n",
              "  </svg>\n",
              "      </button>\n",
              "      \n",
              "  <style>\n",
              "    .colab-df-container {\n",
              "      display:flex;\n",
              "      flex-wrap:wrap;\n",
              "      gap: 12px;\n",
              "    }\n",
              "\n",
              "    .colab-df-convert {\n",
              "      background-color: #E8F0FE;\n",
              "      border: none;\n",
              "      border-radius: 50%;\n",
              "      cursor: pointer;\n",
              "      display: none;\n",
              "      fill: #1967D2;\n",
              "      height: 32px;\n",
              "      padding: 0 0 0 0;\n",
              "      width: 32px;\n",
              "    }\n",
              "\n",
              "    .colab-df-convert:hover {\n",
              "      background-color: #E2EBFA;\n",
              "      box-shadow: 0px 1px 2px rgba(60, 64, 67, 0.3), 0px 1px 3px 1px rgba(60, 64, 67, 0.15);\n",
              "      fill: #174EA6;\n",
              "    }\n",
              "\n",
              "    [theme=dark] .colab-df-convert {\n",
              "      background-color: #3B4455;\n",
              "      fill: #D2E3FC;\n",
              "    }\n",
              "\n",
              "    [theme=dark] .colab-df-convert:hover {\n",
              "      background-color: #434B5C;\n",
              "      box-shadow: 0px 1px 3px 1px rgba(0, 0, 0, 0.15);\n",
              "      filter: drop-shadow(0px 1px 2px rgba(0, 0, 0, 0.3));\n",
              "      fill: #FFFFFF;\n",
              "    }\n",
              "  </style>\n",
              "\n",
              "      <script>\n",
              "        const buttonEl =\n",
              "          document.querySelector('#df-fa1f8066-fc6a-45a3-9b3c-45e54bdbd2ed button.colab-df-convert');\n",
              "        buttonEl.style.display =\n",
              "          google.colab.kernel.accessAllowed ? 'block' : 'none';\n",
              "\n",
              "        async function convertToInteractive(key) {\n",
              "          const element = document.querySelector('#df-fa1f8066-fc6a-45a3-9b3c-45e54bdbd2ed');\n",
              "          const dataTable =\n",
              "            await google.colab.kernel.invokeFunction('convertToInteractive',\n",
              "                                                     [key], {});\n",
              "          if (!dataTable) return;\n",
              "\n",
              "          const docLinkHtml = 'Like what you see? Visit the ' +\n",
              "            '<a target=\"_blank\" href=https://colab.research.google.com/notebooks/data_table.ipynb>data table notebook</a>'\n",
              "            + ' to learn more about interactive tables.';\n",
              "          element.innerHTML = '';\n",
              "          dataTable['output_type'] = 'display_data';\n",
              "          await google.colab.output.renderOutput(dataTable, element);\n",
              "          const docLink = document.createElement('div');\n",
              "          docLink.innerHTML = docLinkHtml;\n",
              "          element.appendChild(docLink);\n",
              "        }\n",
              "      </script>\n",
              "    </div>\n",
              "  </div>\n",
              "  "
            ]
          },
          "metadata": {},
          "execution_count": 42
        }
      ]
    },
    {
      "cell_type": "code",
      "source": [
        "\n",
        "df.Drug.unique()"
      ],
      "metadata": {
        "colab": {
          "base_uri": "https://localhost:8080/"
        },
        "id": "xat4eMRnGCtk",
        "outputId": "b43d7890-8b4b-4f3a-bc72-0e7271ad10f8"
      },
      "execution_count": null,
      "outputs": [
        {
          "output_type": "execute_result",
          "data": {
            "text/plain": [
              "array(['DrugY', 'drugC', 'drugX', 'drugA', 'drugB'], dtype=object)"
            ]
          },
          "metadata": {},
          "execution_count": 43
        }
      ]
    },
    {
      "cell_type": "code",
      "source": [
        "df_preds=pd.DataFrame({'Gercek': y_test, 'Tahmin':y_pred})\n",
        "df_preds"
      ],
      "metadata": {
        "id": "smxG-al2HqIO",
        "colab": {
          "base_uri": "https://localhost:8080/",
          "height": 424
        },
        "outputId": "7d197af5-d456-431d-a206-50c91414fee8"
      },
      "execution_count": null,
      "outputs": [
        {
          "output_type": "execute_result",
          "data": {
            "text/plain": [
              "   Gercek Tahmin\n",
              "0   drugC  drugX\n",
              "1   drugX  drugX\n",
              "2   DrugY  DrugY\n",
              "3   DrugY  DrugY\n",
              "4   DrugY  DrugY\n",
              "..    ...    ...\n",
              "75  DrugY  DrugY\n",
              "76  DrugY  DrugY\n",
              "77  drugX  drugX\n",
              "78  drugX  drugX\n",
              "79  DrugY  DrugY\n",
              "\n",
              "[80 rows x 2 columns]"
            ],
            "text/html": [
              "\n",
              "  <div id=\"df-72cffe60-1c0a-48d5-9bb3-7b353b5354f0\">\n",
              "    <div class=\"colab-df-container\">\n",
              "      <div>\n",
              "<style scoped>\n",
              "    .dataframe tbody tr th:only-of-type {\n",
              "        vertical-align: middle;\n",
              "    }\n",
              "\n",
              "    .dataframe tbody tr th {\n",
              "        vertical-align: top;\n",
              "    }\n",
              "\n",
              "    .dataframe thead th {\n",
              "        text-align: right;\n",
              "    }\n",
              "</style>\n",
              "<table border=\"1\" class=\"dataframe\">\n",
              "  <thead>\n",
              "    <tr style=\"text-align: right;\">\n",
              "      <th></th>\n",
              "      <th>Gercek</th>\n",
              "      <th>Tahmin</th>\n",
              "    </tr>\n",
              "  </thead>\n",
              "  <tbody>\n",
              "    <tr>\n",
              "      <th>0</th>\n",
              "      <td>drugC</td>\n",
              "      <td>drugX</td>\n",
              "    </tr>\n",
              "    <tr>\n",
              "      <th>1</th>\n",
              "      <td>drugX</td>\n",
              "      <td>drugX</td>\n",
              "    </tr>\n",
              "    <tr>\n",
              "      <th>2</th>\n",
              "      <td>DrugY</td>\n",
              "      <td>DrugY</td>\n",
              "    </tr>\n",
              "    <tr>\n",
              "      <th>3</th>\n",
              "      <td>DrugY</td>\n",
              "      <td>DrugY</td>\n",
              "    </tr>\n",
              "    <tr>\n",
              "      <th>4</th>\n",
              "      <td>DrugY</td>\n",
              "      <td>DrugY</td>\n",
              "    </tr>\n",
              "    <tr>\n",
              "      <th>...</th>\n",
              "      <td>...</td>\n",
              "      <td>...</td>\n",
              "    </tr>\n",
              "    <tr>\n",
              "      <th>75</th>\n",
              "      <td>DrugY</td>\n",
              "      <td>DrugY</td>\n",
              "    </tr>\n",
              "    <tr>\n",
              "      <th>76</th>\n",
              "      <td>DrugY</td>\n",
              "      <td>DrugY</td>\n",
              "    </tr>\n",
              "    <tr>\n",
              "      <th>77</th>\n",
              "      <td>drugX</td>\n",
              "      <td>drugX</td>\n",
              "    </tr>\n",
              "    <tr>\n",
              "      <th>78</th>\n",
              "      <td>drugX</td>\n",
              "      <td>drugX</td>\n",
              "    </tr>\n",
              "    <tr>\n",
              "      <th>79</th>\n",
              "      <td>DrugY</td>\n",
              "      <td>DrugY</td>\n",
              "    </tr>\n",
              "  </tbody>\n",
              "</table>\n",
              "<p>80 rows × 2 columns</p>\n",
              "</div>\n",
              "      <button class=\"colab-df-convert\" onclick=\"convertToInteractive('df-72cffe60-1c0a-48d5-9bb3-7b353b5354f0')\"\n",
              "              title=\"Convert this dataframe to an interactive table.\"\n",
              "              style=\"display:none;\">\n",
              "        \n",
              "  <svg xmlns=\"http://www.w3.org/2000/svg\" height=\"24px\"viewBox=\"0 0 24 24\"\n",
              "       width=\"24px\">\n",
              "    <path d=\"M0 0h24v24H0V0z\" fill=\"none\"/>\n",
              "    <path d=\"M18.56 5.44l.94 2.06.94-2.06 2.06-.94-2.06-.94-.94-2.06-.94 2.06-2.06.94zm-11 1L8.5 8.5l.94-2.06 2.06-.94-2.06-.94L8.5 2.5l-.94 2.06-2.06.94zm10 10l.94 2.06.94-2.06 2.06-.94-2.06-.94-.94-2.06-.94 2.06-2.06.94z\"/><path d=\"M17.41 7.96l-1.37-1.37c-.4-.4-.92-.59-1.43-.59-.52 0-1.04.2-1.43.59L10.3 9.45l-7.72 7.72c-.78.78-.78 2.05 0 2.83L4 21.41c.39.39.9.59 1.41.59.51 0 1.02-.2 1.41-.59l7.78-7.78 2.81-2.81c.8-.78.8-2.07 0-2.86zM5.41 20L4 18.59l7.72-7.72 1.47 1.35L5.41 20z\"/>\n",
              "  </svg>\n",
              "      </button>\n",
              "      \n",
              "  <style>\n",
              "    .colab-df-container {\n",
              "      display:flex;\n",
              "      flex-wrap:wrap;\n",
              "      gap: 12px;\n",
              "    }\n",
              "\n",
              "    .colab-df-convert {\n",
              "      background-color: #E8F0FE;\n",
              "      border: none;\n",
              "      border-radius: 50%;\n",
              "      cursor: pointer;\n",
              "      display: none;\n",
              "      fill: #1967D2;\n",
              "      height: 32px;\n",
              "      padding: 0 0 0 0;\n",
              "      width: 32px;\n",
              "    }\n",
              "\n",
              "    .colab-df-convert:hover {\n",
              "      background-color: #E2EBFA;\n",
              "      box-shadow: 0px 1px 2px rgba(60, 64, 67, 0.3), 0px 1px 3px 1px rgba(60, 64, 67, 0.15);\n",
              "      fill: #174EA6;\n",
              "    }\n",
              "\n",
              "    [theme=dark] .colab-df-convert {\n",
              "      background-color: #3B4455;\n",
              "      fill: #D2E3FC;\n",
              "    }\n",
              "\n",
              "    [theme=dark] .colab-df-convert:hover {\n",
              "      background-color: #434B5C;\n",
              "      box-shadow: 0px 1px 3px 1px rgba(0, 0, 0, 0.15);\n",
              "      filter: drop-shadow(0px 1px 2px rgba(0, 0, 0, 0.3));\n",
              "      fill: #FFFFFF;\n",
              "    }\n",
              "  </style>\n",
              "\n",
              "      <script>\n",
              "        const buttonEl =\n",
              "          document.querySelector('#df-72cffe60-1c0a-48d5-9bb3-7b353b5354f0 button.colab-df-convert');\n",
              "        buttonEl.style.display =\n",
              "          google.colab.kernel.accessAllowed ? 'block' : 'none';\n",
              "\n",
              "        async function convertToInteractive(key) {\n",
              "          const element = document.querySelector('#df-72cffe60-1c0a-48d5-9bb3-7b353b5354f0');\n",
              "          const dataTable =\n",
              "            await google.colab.kernel.invokeFunction('convertToInteractive',\n",
              "                                                     [key], {});\n",
              "          if (!dataTable) return;\n",
              "\n",
              "          const docLinkHtml = 'Like what you see? Visit the ' +\n",
              "            '<a target=\"_blank\" href=https://colab.research.google.com/notebooks/data_table.ipynb>data table notebook</a>'\n",
              "            + ' to learn more about interactive tables.';\n",
              "          element.innerHTML = '';\n",
              "          dataTable['output_type'] = 'display_data';\n",
              "          await google.colab.output.renderOutput(dataTable, element);\n",
              "          const docLink = document.createElement('div');\n",
              "          docLink.innerHTML = docLinkHtml;\n",
              "          element.appendChild(docLink);\n",
              "        }\n",
              "      </script>\n",
              "    </div>\n",
              "  </div>\n",
              "  "
            ]
          },
          "metadata": {},
          "execution_count": 44
        }
      ]
    },
    {
      "cell_type": "code",
      "source": [
        "\n",
        "\n",
        "def get_models():\n",
        "    models=[]\n",
        "    \n",
        "    models.append((\"NB\",GaussianNB()))\n",
        "    models.append((\"KNN\",KNeighborsClassifier()))\n",
        "    models.append((\"DT\",DecisionTreeClassifier()))\n",
        "    models.append((\"SVM rbf\",SVC()))\n",
        "    \n",
        "    \n",
        "    \n",
        "    return models\n",
        "\n",
        "def cross_validation_scores_for_various_ml_models(X_cv, y_cv):\n",
        "    print(\"Çapraz Doğrulama Başarı Oranları\".upper())\n",
        "    models=get_models()\n",
        "\n",
        "\n",
        "    results=[]\n",
        "    names= []\n",
        "\n",
        "    for name, model in models:\n",
        "        kfold=StratifiedKFold(n_splits=5,shuffle=True,random_state=22)\n",
        "        cv_result=cross_val_score(model,X_cv, y_cv, cv=kfold,scoring=\"accuracy\")\n",
        "        names.append(name)\n",
        "        results.append(cv_result)\n",
        "        print(\"{} modelinin çapraz doğrulaması yapıldı, başarı oranı:{:0.2f}\".format(name, cv_result.mean()))\n",
        "\n",
        "   "
      ],
      "metadata": {
        "execution": {
          "iopub.status.busy": "2022-12-10T10:58:29.810444Z",
          "iopub.execute_input": "2022-12-10T10:58:29.810948Z",
          "iopub.status.idle": "2022-12-10T10:58:29.821072Z",
          "shell.execute_reply.started": "2022-12-10T10:58:29.810911Z",
          "shell.execute_reply": "2022-12-10T10:58:29.819563Z"
        },
        "trusted": true,
        "id": "dktyitCT3loC"
      },
      "execution_count": null,
      "outputs": []
    },
    {
      "cell_type": "code",
      "source": [
        "from sklearn.model_selection import StratifiedKFold\n",
        "from sklearn.preprocessing import StandardScaler\n",
        "from sklearn.model_selection import cross_val_score\n",
        "dataset_temp=df.copy(deep=True)\n",
        "X=df.drop('Drug', axis=1)\n",
        "y=df['Drug']\n",
        "\n",
        "X=StandardScaler().fit_transform(X)\n",
        "cross_validation_scores_for_various_ml_models(X, y)\n"
      ],
      "metadata": {
        "execution": {
          "iopub.status.busy": "2022-12-10T10:59:32.975906Z",
          "iopub.execute_input": "2022-12-10T10:59:32.976880Z",
          "iopub.status.idle": "2022-12-10T10:59:33.070511Z",
          "shell.execute_reply.started": "2022-12-10T10:59:32.976830Z",
          "shell.execute_reply": "2022-12-10T10:59:33.069191Z"
        },
        "trusted": true,
        "id": "vOC46iRk3loC",
        "colab": {
          "base_uri": "https://localhost:8080/"
        },
        "outputId": "cc749ca1-5a1d-47e2-a7d6-4e36f5581a1c"
      },
      "execution_count": null,
      "outputs": [
        {
          "output_type": "stream",
          "name": "stdout",
          "text": [
            "ÇAPRAZ DOĞRULAMA BAŞARI ORANLARI\n",
            "NB modelinin çapraz doğrulaması yapıldı, başarı oranı:0.83\n",
            "KNN modelinin çapraz doğrulaması yapıldı, başarı oranı:0.80\n",
            "DT modelinin çapraz doğrulaması yapıldı, başarı oranı:0.99\n",
            "SVM rbf modelinin çapraz doğrulaması yapıldı, başarı oranı:0.95\n"
          ]
        }
      ]
    },
    {
      "cell_type": "code",
      "source": [],
      "metadata": {
        "id": "Ap1gigYx3loD"
      },
      "execution_count": null,
      "outputs": []
    }
  ]
}